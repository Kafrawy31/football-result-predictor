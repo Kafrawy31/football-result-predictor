{
 "cells": [
  {
   "cell_type": "code",
   "execution_count": 699,
   "metadata": {},
   "outputs": [],
   "source": [
    "import pandas as pd\n",
    "import torch\n",
    "import torch.nn as nn\n",
    "import numpy as np\n",
    "import os\n",
    "from glicko2 import Player\n",
    "from helpers import davidson_mov\n",
    "import matplotlib.pyplot as plt\n",
    "import numpy as np\n",
    "from sklearn.metrics import f1_score, precision_score, recall_score\n",
    "import torch.nn as nn\n",
    "import torch.optim as optim\n",
    "from torch.optim.lr_scheduler import StepLR\n",
    "from torch.utils.data import DataLoader\n",
    "from torch.utils.data import Dataset, DataLoader\n",
    "import torch.nn as nn\n",
    "from sklearn.model_selection import train_test_split\n",
    "from tensorflow.keras.layers import Input, LSTM, Dense, Concatenate\n",
    "from tensorflow.keras.models import Model\n"
   ]
  },
  {
   "cell_type": "code",
   "execution_count": 700,
   "metadata": {},
   "outputs": [
    {
     "data": {
      "text/plain": [
       "device(type='cuda')"
      ]
     },
     "execution_count": 700,
     "metadata": {},
     "output_type": "execute_result"
    }
   ],
   "source": [
    "device = torch.device('cuda' if torch.cuda.is_available() else 'cpu')\n",
    "device"
   ]
  },
  {
   "cell_type": "code",
   "execution_count": 701,
   "metadata": {},
   "outputs": [],
   "source": [
    "df_engineered = pd.read_csv('EPL_ENGINEERED.CSV')\n",
    "df = pd.read_csv('GLICKO.csv')"
   ]
  },
  {
   "cell_type": "code",
   "execution_count": 702,
   "metadata": {},
   "outputs": [],
   "source": [
    "# Combine the two DataFrames side by side using their indice\n",
    "df = pd.concat([df, df_engineered], axis=1)\n",
    "\n"
   ]
  },
  {
   "cell_type": "code",
   "execution_count": 703,
   "metadata": {},
   "outputs": [],
   "source": [
    "\n",
    "df.rename(columns = {\n",
    "    'AwayTeamGlickoRating': 'awayGlickoRating',\n",
    "    'AwayTeamGlickoUpper': 'awayGlickoUpper',\n",
    "    'AwayTeamGlickoLower': 'awayGlickoLower',\n",
    "    'HomeTeamGlickoRating': 'homeGlickoRating',\n",
    "    'HomeTeamGlickoUpper': 'homeGlickoUpper',\n",
    "    'HomeTeamGlickoLower': 'homeGlickoLower',\n",
    "},inplace=True)\n",
    "df.drop(columns = ['TTG','time','AwayTeamGlickoRD','HomeTeamGlickoRD'],inplace=True)\n"
   ]
  },
  {
   "cell_type": "code",
   "execution_count": null,
   "metadata": {},
   "outputs": [],
   "source": []
  },
  {
   "cell_type": "code",
   "execution_count": 704,
   "metadata": {},
   "outputs": [],
   "source": [
    "import pandas as pd\n",
    "\n",
    "def split_matches_with_id(df):\n",
    "    \"\"\"\n",
    "    Splits each match into two perspectives: home team and away team.\n",
    "    Ensures that for each match, the two resulting rows are consecutive.\n",
    "    \n",
    "    Args:\n",
    "        df (pd.DataFrame): Original DataFrame containing match data.\n",
    "    \n",
    "    Returns:\n",
    "        pd.DataFrame: New DataFrame with separate rows for home and away perspectives.\n",
    "    \"\"\"\n",
    "    # Assign a unique match identifier\n",
    "    df = df.copy().reset_index(drop=True)\n",
    "    df['match_id'] = df.index  # Simple unique identifier; modify if needed\n",
    "\n",
    "    # Identify all 'home' and 'away' prefixed columns\n",
    "    home_cols = [col for col in df.columns if col.startswith('home')]\n",
    "    away_cols = [col for col in df.columns if col.startswith('away')]\n",
    "\n",
    "    # Columns that are not prefixed with 'home' or 'away' or 'match_id'\n",
    "    common_cols = [col for col in df.columns if not (col.startswith('home') or col.startswith('away'))]\n",
    "\n",
    "    # Initialize list to store new rows\n",
    "    new_rows = []\n",
    "\n",
    "    # Iterate over each row in the DataFrame\n",
    "    for idx, row in df.iterrows():\n",
    "        # --------------------\n",
    "        # Home Team Perspective\n",
    "        # --------------------\n",
    "        home_row = {}\n",
    "\n",
    "        # Assign match_id, team, and opponent\n",
    "        home_row['match_id'] = row['match_id']\n",
    "        home_row['date'] = row['date']\n",
    "        home_row['team'] = row['homeTeam']\n",
    "        home_row['opponent'] = row['awayTeam']\n",
    "        home_row['goalsScored'] = row['homeScore']\n",
    "        home_row['goalsConceded'] = row['awayScore']\n",
    "        home_row['is_home'] = 1\n",
    "        \n",
    "        # Assuming FTR: 0 = Home Win, 1 = Draw, 2 = Away Win\n",
    "        if row['FTR'] == 0:\n",
    "            home_row['FTR'] = 0  # Home Win\n",
    "        elif row['FTR'] == 1:\n",
    "            home_row['FTR'] = 1\n",
    "        else:\n",
    "            home_row['FTR'] = 2\n",
    "            \n",
    "            \n",
    "\n",
    "\n",
    "        # Add 'team_' prefixed columns (remove 'home' prefix)\n",
    "        for col in home_cols:\n",
    "            new_col = col.replace('home', '').strip('_')  # e.g., 'attack'\n",
    "            home_row[f'team_{new_col}'] = row[col]\n",
    "\n",
    "        # Add 'opp_' prefixed columns from 'away' columns (remove 'away' prefix)\n",
    "        for col in away_cols:\n",
    "            new_col = col.replace('away', '').strip('_')  # e.g., 'attack'\n",
    "            home_row[f'opp_{new_col}'] = row[col]\n",
    "\n",
    "        # --------------------\n",
    "        # Away Team Perspective\n",
    "        # --------------------\n",
    "        away_row = {}\n",
    "\n",
    "        # Assign match_id, team, and opponent\n",
    "        away_row['match_id'] = row['match_id']\n",
    "        away_row['date']  = row['date']\n",
    "        away_row['team'] = row['awayTeam']\n",
    "        away_row['opponent'] = row['homeTeam']\n",
    "        away_row['goalsScored'] = row['awayScore']\n",
    "        away_row['goalsConceded'] = row['homeScore']\n",
    "        away_row['is_home'] = 0\n",
    "\n",
    "        # Handle 'FTR' for away perspective\n",
    "        # From away perspective: 2 = Away Win => 1, else 0\n",
    "        if row['FTR'] == 2:\n",
    "            away_row['FTR'] = 0  # Away Win\n",
    "        elif row['FTR'] == 1:\n",
    "            away_row['FTR'] = 1\n",
    "        else:\n",
    "            away_row['FTR'] = 2# Draw or Home Win\n",
    "\n",
    "        # Add 'team_' prefixed columns from 'away' columns (remove 'away' prefix)\n",
    "        for col in away_cols:\n",
    "            new_col = col.replace('away', '').strip('_')  # e.g., 'attack'\n",
    "            away_row[f'team_{new_col}'] = row[col]\n",
    "\n",
    "        # Add 'opp_' prefixed columns from 'home' columns (remove 'home' prefix)\n",
    "        for col in home_cols:\n",
    "            new_col = col.replace('home', '').strip('_')  # e.g., 'attack'\n",
    "            # If the column represents differences, invert the sign\n",
    "            if col in ['homeGlickoDiff', 'homeGlickoUpperDiff', 'homeGlickoLowerDiff']:\n",
    "                away_row[f'opp_{new_col}'] = -row[col]\n",
    "            else:\n",
    "                away_row[f'opp_{new_col}'] = row[col]\n",
    "\n",
    "        # Append both home and away rows to new_rows list\n",
    "        new_rows.extend([home_row, away_row])\n",
    "\n",
    "    # Create a new dataframe from the list of new rows\n",
    "    new_df = pd.DataFrame(new_rows)\n",
    "\n",
    "    new_df.reset_index(drop=True, inplace=True)\n",
    "\n",
    "    # Optionally, drop 'match_id' if not needed further\n",
    "    # new_df.drop('match_id', axis=1, inplace=True)\n",
    "\n",
    "    return new_df\n"
   ]
  },
  {
   "cell_type": "code",
   "execution_count": 705,
   "metadata": {},
   "outputs": [],
   "source": [
    "new_df = split_matches_with_id(df)\n",
    "new_df.drop(columns=['team_Team','team_Score','opp_Score'],inplace=True)\n",
    "new_df['glickoDiff'] = new_df['team_GlickoRating'] - new_df['opp_GlickoRating']\n",
    "new_df['glickoDiffUpper'] = new_df['team_GlickoUpper'] - new_df['opp_GlickoUpper']\n",
    "new_df['glickoDiffLower'] = new_df['team_GlickoLower'] - new_df['opp_GlickoLower']"
   ]
  },
  {
   "cell_type": "code",
   "execution_count": 706,
   "metadata": {},
   "outputs": [],
   "source": [
    "# Attack Difference\n",
    "new_df['diff_Attack'] = new_df['team_Attack'] - new_df['opp_Attack']\n",
    "\n",
    "# Defence Difference\n",
    "new_df['diff_Defence'] = new_df['team_Defence'] - new_df['opp_Defence']\n",
    "\n",
    "new_df['diff_goals'] = new_df['goalsScored'] - new_df['goalsConceded']\n",
    "\n",
    "# Pass Power Difference\n",
    "new_df['diff_PassPower'] = new_df['team_PassPower'] - new_df['opp_PassPower']\n",
    "\n",
    "# Box Presence Difference\n",
    "new_df['diff_BoxPresence'] = new_df['team_BoxPresence'] - new_df['opp_BoxPresence']\n",
    "\n",
    "# Ground Duel Percent Difference\n",
    "new_df['diff_groundDuelPercent'] = new_df['team_groundDuelPercent'] - new_df['opp_groundDuelPercent']\n",
    "\n",
    "# Aerial Duel Percent Difference\n",
    "new_df['diff_aerialDuelPercent'] = new_df['team_aerialDuelPercent'] - new_df['opp_aerialDuelPercent']\n",
    "\n",
    "# Duel Power Difference\n",
    "new_df['diff_DuelPower'] = new_df['team_DuelPower'] - new_df['opp_DuelPower']\n",
    "\n",
    "# Possession Efficiency Difference\n",
    "new_df['diff_PossessionEfficiency'] = new_df['team_PossessionEfficiency'] - new_df['opp_PossessionEfficiency']\n",
    "\n",
    "# Final Third Efficiency Difference\n",
    "new_df['diff_finalThirdEfficiency'] = new_df['team_finalThirdEfficiency'] - new_df['opp_finalThirdEfficiency']\n",
    "\n",
    "# Foul Threat Index Difference\n",
    "new_df['diff_FoulThreatIndex'] = new_df['team_FoulThreatIndex'] - new_df['opp_FoulThreatIndex']\n",
    "\n",
    "# XGc Difference\n",
    "new_df['diff_XGc'] = new_df['team_XGc'] - new_df['opp_XGc']\n",
    "\n",
    "# ATI Difference\n",
    "new_df['diff_ATI'] = new_df['team_ATI'] - new_df['opp_ATI']\n",
    "\n",
    "# Territorial Dominance Difference\n",
    "new_df['diff_TerritorialDominance'] = new_df['team_TerritorialDominance'] - new_df['opp_TerritorialDominance']\n",
    "\n",
    "# Passing Disruption Difference\n",
    "new_df['diff_PassingDisruption'] = new_df['team_PassingDisruption'] - new_df['opp_PassingDisruption']\n",
    "\n",
    "# Transition Efficiency Difference\n",
    "new_df['diff_TransitionEfficiency'] = new_df['team_TransitionEfficiency'] - new_df['opp_TransitionEfficiency']\n",
    "\n",
    "# Won Tackle Difference\n",
    "new_df['diff_wonTackle'] = new_df['team_wonTackle'] - new_df['opp_wonTackle']\n",
    "\n",
    "# Pressure Index Difference\n",
    "new_df['diff_PressureIndex'] = new_df['team_PressureIndex'] - new_df['opp_PressureIndex']\n",
    "\n",
    "# xDS Difference\n",
    "new_df['diff_xDS'] = new_df['team_xDS'] - new_df['opp_xDS']\n",
    "\n",
    "# Discipline Difference\n",
    "new_df['diff_Discipline'] = new_df['team_Discipline'] - new_df['opp_Discipline']"
   ]
  },
  {
   "cell_type": "code",
   "execution_count": 707,
   "metadata": {},
   "outputs": [],
   "source": [
    "from sklearn.preprocessing import StandardScaler\n",
    "import pandas as pd\n",
    "\n",
    "# Create a StandardScaler instance\n",
    "scaler = StandardScaler()\n",
    "# Extract columns to scale\n",
    "columns_to_scale = ['team_Attack', 'team_Defence', 'team_GlickoRating', 'team_GlickoLower', 'team_GlickoUpper',\n",
    "                    'team_PassPower', 'team_BoxPresence', 'team_groundDuelPercent', 'team_aerialDuelPercent',\n",
    "                    'team_DuelPower', 'team_PossessionEfficiency', 'team_finalThirdEfficiency', \n",
    "                    'team_FoulThreatIndex', 'team_XGc', 'team_ATI', 'team_TerritorialDominance', \n",
    "                    'team_PassingDisruption', 'team_TransitionEfficiency', 'team_wonTackle', 'team_PressureIndex',\n",
    "                    'team_xDS', 'team_Discipline', 'opp_Attack', 'opp_Defence', \n",
    "                    'opp_GlickoRating', 'opp_GlickoLower', 'opp_GlickoUpper', 'opp_PassPower', \n",
    "                    'opp_BoxPresence', 'opp_groundDuelPercent', 'opp_aerialDuelPercent', 'opp_DuelPower',\n",
    "                    'opp_PossessionEfficiency', 'opp_finalThirdEfficiency', 'opp_FoulThreatIndex', \n",
    "                    'opp_XGc', 'opp_ATI', 'opp_TerritorialDominance', 'opp_PassingDisruption', \n",
    "                    'opp_TransitionEfficiency', 'opp_wonTackle', 'opp_PressureIndex', 'opp_xDS', \n",
    "                    'opp_Discipline', 'diff_Attack', 'diff_Defence', 'diff_goals', 'diff_PassPower', \n",
    "                    'diff_BoxPresence', 'diff_groundDuelPercent', 'diff_aerialDuelPercent', 'diff_DuelPower', \n",
    "                    'diff_PossessionEfficiency', 'diff_finalThirdEfficiency', 'diff_FoulThreatIndex', \n",
    "                    'diff_XGc', 'diff_ATI', 'diff_TerritorialDominance', 'diff_PassingDisruption', \n",
    "                    'diff_TransitionEfficiency', 'diff_wonTackle', 'diff_PressureIndex', 'diff_xDS', \n",
    "                    'diff_Discipline']\n",
    "\n",
    "# Assuming train_data and test_data are pandas DataFrames\n",
    "# Fit scaler on training data\n",
    "scaler.fit(new_df[columns_to_scale])\n",
    "\n",
    "(new_df[columns_to_scale])= scaler.transform(new_df[columns_to_scale])\n"
   ]
  },
  {
   "cell_type": "code",
   "execution_count": 708,
   "metadata": {},
   "outputs": [],
   "source": [
    "g = new_df.copy()\n",
    "g.drop(columns=['match_id','date','team','opponent','goalsConceded','is_home','team_Id','opp_Id','opp_Team','goalsScored','diff_goals'],inplace=True)"
   ]
  },
  {
   "cell_type": "code",
   "execution_count": null,
   "metadata": {},
   "outputs": [],
   "source": []
  },
  {
   "cell_type": "code",
   "execution_count": null,
   "metadata": {},
   "outputs": [],
   "source": []
  },
  {
   "cell_type": "code",
   "execution_count": 712,
   "metadata": {},
   "outputs": [
    {
     "name": "stdout",
     "output_type": "stream",
     "text": [
      "First sequence for Arsenal :\n",
      " {'match_id': 909, 'team': 'Arsenal', 'opponent': 'Manchester United', 'historical_team': array([[ 1.        ,  0.        ,  0.        , ...,  1.71772293,\n",
      "        -0.76633396,  0.51241159],\n",
      "       [ 5.        ,  0.        ,  0.        , ...,  1.67694126,\n",
      "         1.19581858,  2.56205797],\n",
      "       [ 1.        ,  3.        ,  2.        , ...,  0.23802699,\n",
      "        -0.13055349, -1.02482319],\n",
      "       ...,\n",
      "       [ 1.        ,  1.        ,  1.        , ..., -0.48330979,\n",
      "        -0.16117157,  0.        ],\n",
      "       [ 2.        ,  1.        ,  0.        , ...,  0.14766371,\n",
      "        -0.25095023,  0.51241159],\n",
      "       [ 4.        ,  2.        ,  0.        , ...,  0.14038496,\n",
      "         1.28138971,  1.02482319]]), 'historical_opponent': array([[ 1.        ,  0.        ,  0.        , ...,  0.83782079,\n",
      "         0.        ,  0.51241159],\n",
      "       [ 4.        ,  2.        ,  0.        , ...,  0.17193139,\n",
      "         0.03844399,  1.02482319],\n",
      "       [ 3.        ,  1.        ,  0.        , ..., -0.23802699,\n",
      "         0.13055349,  1.02482319],\n",
      "       ...,\n",
      "       [ 1.        ,  3.        ,  2.        , ..., -0.55340007,\n",
      "         0.39465529, -1.02482319],\n",
      "       [ 0.        ,  0.        ,  1.        , ..., -1.94608516,\n",
      "         0.84006772,  0.        ],\n",
      "       [ 2.        ,  2.        ,  1.        , ..., -0.25937096,\n",
      "         0.16532369,  0.        ]]), 'current': array([0, 2.11222008541817, -0.5315468508296527, 0.8177561028738369,\n",
      "       0.8570110082912072, 0.7768222160164281, -0.2460695180162732,\n",
      "       -0.3368245543330302, 0.930939823275755, 0.9337982951883663,\n",
      "       0.926177877009672, -15.571305524160152, -20.566758233745986,\n",
      "       -10.575852814574318], dtype=object), 'target': 1}\n"
     ]
    }
   ],
   "source": [
    "# Suppose you want to check the first sequence for TeamA\n",
    "team_name = 'Arsenal'\n",
    "if team_name in data_sequences_by_team and len(data_sequences_by_team[team_name]) > 0:\n",
    "    sequence = data_sequences_by_team[team_name][90]  # Get the first sequence (match) for TeamA\n",
    "    print(\"First sequence for\", team_name, \":\\n\", sequence)\n",
    "else:\n",
    "    print(f\"No data found for team {team_name}\")\n"
   ]
  },
  {
   "cell_type": "code",
   "execution_count": null,
   "metadata": {},
   "outputs": [
    {
     "name": "stdout",
     "output_type": "stream",
     "text": [
      "Match ID: 409\n",
      "Team: Arsenal\n",
      "Opponent: Liverpool\n"
     ]
    },
    {
     "ename": "ValueError",
     "evalue": "The truth value of an array with more than one element is ambiguous. Use a.any() or a.all()",
     "output_type": "error",
     "traceback": [
      "\u001b[1;31m---------------------------------------------------------------------------\u001b[0m",
      "\u001b[1;31mValueError\u001b[0m                                Traceback (most recent call last)",
      "Cell \u001b[1;32mIn[746], line 5\u001b[0m\n\u001b[0;32m      3\u001b[0m \u001b[38;5;28mprint\u001b[39m(\u001b[38;5;124m\"\u001b[39m\u001b[38;5;124mTeam:\u001b[39m\u001b[38;5;124m\"\u001b[39m, sequence[\u001b[38;5;124m'\u001b[39m\u001b[38;5;124mteam\u001b[39m\u001b[38;5;124m'\u001b[39m])\n\u001b[0;32m      4\u001b[0m \u001b[38;5;28mprint\u001b[39m(\u001b[38;5;124m\"\u001b[39m\u001b[38;5;124mOpponent:\u001b[39m\u001b[38;5;124m\"\u001b[39m, sequence[\u001b[38;5;124m'\u001b[39m\u001b[38;5;124mopponent\u001b[39m\u001b[38;5;124m'\u001b[39m])\n\u001b[1;32m----> 5\u001b[0m \u001b[38;5;28mprint\u001b[39m(\u001b[38;5;124m\"\u001b[39m\u001b[38;5;124mHistorical Team shape:\u001b[39m\u001b[38;5;124m\"\u001b[39m, \u001b[38;5;28mlen\u001b[39m(sequence[\u001b[38;5;124m'\u001b[39m\u001b[38;5;124mhistorical_team\u001b[39m\u001b[38;5;124m'\u001b[39m]), \u001b[38;5;124m\"\u001b[39m\u001b[38;5;124mx\u001b[39m\u001b[38;5;124m\"\u001b[39m, \u001b[38;5;28mlen\u001b[39m(sequence[\u001b[38;5;124m'\u001b[39m\u001b[38;5;124mhistorical_team\u001b[39m\u001b[38;5;124m'\u001b[39m][\u001b[38;5;241m0\u001b[39m]) \u001b[38;5;28;01mif\u001b[39;00m sequence[\u001b[38;5;124m'\u001b[39m\u001b[38;5;124mhistorical_team\u001b[39m\u001b[38;5;124m'\u001b[39m] \u001b[38;5;28;01melse\u001b[39;00m \u001b[38;5;241m0\u001b[39m)\n\u001b[0;32m      6\u001b[0m \u001b[38;5;28mprint\u001b[39m(\u001b[38;5;124m\"\u001b[39m\u001b[38;5;124mHistorical Opponent shape:\u001b[39m\u001b[38;5;124m\"\u001b[39m, \u001b[38;5;28mlen\u001b[39m(sequence[\u001b[38;5;124m'\u001b[39m\u001b[38;5;124mhistorical_opponent\u001b[39m\u001b[38;5;124m'\u001b[39m]), \u001b[38;5;124m\"\u001b[39m\u001b[38;5;124mx\u001b[39m\u001b[38;5;124m\"\u001b[39m, \u001b[38;5;28mlen\u001b[39m(sequence[\u001b[38;5;124m'\u001b[39m\u001b[38;5;124mhistorical_opponent\u001b[39m\u001b[38;5;124m'\u001b[39m][\u001b[38;5;241m0\u001b[39m]) \u001b[38;5;28;01mif\u001b[39;00m sequence[\u001b[38;5;124m'\u001b[39m\u001b[38;5;124mhistorical_opponent\u001b[39m\u001b[38;5;124m'\u001b[39m] \u001b[38;5;28;01melse\u001b[39;00m \u001b[38;5;241m0\u001b[39m)\n\u001b[0;32m      7\u001b[0m \u001b[38;5;28mprint\u001b[39m(\u001b[38;5;124m\"\u001b[39m\u001b[38;5;124mCurrent features shape:\u001b[39m\u001b[38;5;124m\"\u001b[39m, sequence[\u001b[38;5;124m'\u001b[39m\u001b[38;5;124mcurrent\u001b[39m\u001b[38;5;124m'\u001b[39m]\u001b[38;5;241m.\u001b[39mshape)\n",
      "\u001b[1;31mValueError\u001b[0m: The truth value of an array with more than one element is ambiguous. Use a.any() or a.all()"
     ]
    }
   ],
   "source": []
  },
  {
   "cell_type": "code",
   "execution_count": 658,
   "metadata": {},
   "outputs": [],
   "source": [
    "class SoccerDataset(Dataset):\n",
    "    def __init__(self, data_sequences):\n",
    "        self.data_sequences = data_sequences\n",
    "    def __len__(self):\n",
    "        return len(self.data_sequences)\n",
    "\n",
    "    def __getitem__(self, idx):\n",
    "        seq = self.data_sequences[idx]\n",
    "        historical_team = torch.tensor(seq['historical_team'], dtype=torch.float32)\n",
    "        historical_opp = torch.tensor(seq['historical_opponent'], dtype=torch.float32)\n",
    "        current = torch.tensor(seq['current'], dtype=torch.float32)\n",
    "        target = torch.tensor(seq['target'], dtype=torch.long)\n",
    "        return historical_team, historical_opp, current, target\n"
   ]
  },
  {
   "cell_type": "code",
   "execution_count": null,
   "metadata": {},
   "outputs": [],
   "source": [
    "# for team, sequences in data_sequences_by_team.items():\n",
    "#     for seq in sequences:\n",
    "#         seq['historical_team'] = np.array(seq['historical_team'], dtype=np.float32)\n",
    "#         seq['historical_opponent'] = np.array(seq['historical_opponent'], dtype=np.float32)\n",
    "#         seq['current'] = np.array(seq['current'], dtype=np.float32)\n",
    "#         seq['target'] = np.array(seq['target'], dtype=np.int64)\n"
   ]
  },
  {
   "cell_type": "code",
   "execution_count": null,
   "metadata": {},
   "outputs": [
    {
     "name": "stdout",
     "output_type": "stream",
     "text": [
      "Match ID: 2139\n",
      "Team: Arsenal\n",
      "Opponent: Brentford\n",
      "Historical Team shape: (40, 71)\n",
      "Number of time steps: 40\n",
      "Number of features per timestep: 71\n",
      "Historical Team shape: (40, 71)\n",
      "Number of time steps: 40\n",
      "Number of features per timestep: 71\n",
      "Current features shape: (14,)\n",
      "Target: 0\n"
     ]
    }
   ],
   "source": [
    "# sequence = data_sequences_by_team[team_name][212]\n",
    "# print(\"Match ID:\", sequence['match_id'])\n",
    "# print(\"Team:\", sequence['team'])\n",
    "# print(\"Opponent:\", sequence['opponent'])\n",
    "# print(\"Historical Team shape:\", sequence['historical_team'].shape)\n",
    "# if sequence['historical_team'].shape[0] > 0:\n",
    "#     print(\"Number of time steps:\", sequence['historical_team'].shape[0])\n",
    "#     print(\"Number of features per timestep:\", sequence['historical_team'].shape[1])\n",
    "# else:\n",
    "#     print(\"Historical Team array is empty.\")\n",
    "\n",
    "# print(\"Historical Team shape:\", sequence['historical_opponent'].shape)\n",
    "# if sequence['historical_opponent'].shape[0] > 0:\n",
    "#     print(\"Number of time steps:\", sequence['historical_opponent'].shape[0])\n",
    "#     print(\"Number of features per timestep:\", sequence['historical_opponent'].shape[1])\n",
    "# else:\n",
    "#     print(\"Historical Team array is empty.\")\n",
    "\n",
    "# print(\"Current features shape:\", sequence['current'].shape)\n",
    "# print(\"Target:\", sequence['target'])\n"
   ]
  },
  {
   "cell_type": "code",
   "execution_count": null,
   "metadata": {},
   "outputs": [],
   "source": []
  },
  {
   "cell_type": "code",
   "execution_count": null,
   "metadata": {},
   "outputs": [],
   "source": [
    "# class SoccerLSTM(nn.Module):\n",
    "#     def __init__(self, historical_dim, current_dim, hidden_dim, output_dim, num_layers=1, device='cuda'):\n",
    "#         super(SoccerLSTM, self).__init__()\n",
    "#         self.hidden_dim = hidden_dim\n",
    "#         self.num_layers = num_layers\n",
    "#         self.device = torch.device(device)\n",
    "        \n",
    "#         # LSTMs for team and opponent historical sequences\n",
    "#         self.team_lstm = nn.LSTM(historical_dim, hidden_dim, num_layers, batch_first=True)\n",
    "#         self.opp_lstm = nn.LSTM(historical_dim, hidden_dim, num_layers, batch_first=True)\n",
    "        \n",
    "#         # Fully connected layers\n",
    "#         self.fc = nn.Sequential(\n",
    "#             nn.Linear(hidden_dim * 2 + current_dim, 512),  # Combine team, opponent, and current inputs\n",
    "#             nn.LeakyReLU(),\n",
    "#             nn.Dropout(p=0.3),\n",
    "#             nn.Linear(512, 256),\n",
    "#             nn.LeakyReLU(),\n",
    "#             nn.Dropout(p=0.3),\n",
    "#             nn.Linear(256, 128),\n",
    "#             nn.LeakyReLU(),\n",
    "#             nn.Dropout(p=0.2),\n",
    "#             nn.Linear(128, output_dim)\n",
    "#         )\n",
    "        \n",
    "#         self.hidden_team = None\n",
    "#         self.hidden_opp = None\n",
    "\n",
    "#     def forward(self, historical_team, historical_opp, current):\n",
    "#         # Reset hidden states if needed\n",
    "#         if self.hidden_team is None or self.hidden_opp is None:\n",
    "#             batch_size = historical_team.size(0)\n",
    "#             self.hidden_team = self.init_hidden(batch_size)\n",
    "#             self.hidden_opp = self.init_hidden(batch_size)\n",
    "        \n",
    "#         # Detach hidden states to prevent backprop across batches\n",
    "#         self.hidden_team = (self.hidden_team[0].detach(), self.hidden_team[1].detach())\n",
    "#         self.hidden_opp = (self.hidden_opp[0].detach(), self.hidden_opp[1].detach())\n",
    "        \n",
    "#         # Process historical sequences\n",
    "#         team_out, self.hidden_team = self.team_lstm(historical_team, self.hidden_team)\n",
    "#         opp_out, self.hidden_opp = self.opp_lstm(historical_opp, self.hidden_opp)\n",
    "        \n",
    "#         # Take the last output of both LSTMs\n",
    "#         team_out = team_out[:, -1, :]\n",
    "#         opp_out = opp_out[:, -1, :]\n",
    "        \n",
    "#         # Combine with current features\n",
    "#         combined = torch.cat((team_out, opp_out, current), dim=1)\n",
    "#         output = self.fc(combined)\n",
    "\n",
    "#         return output\n",
    "\n",
    "#     def init_hidden(self, batch_size):\n",
    "#         hidden = torch.zeros(self.num_layers, batch_size, self.hidden_dim).to(self.device)\n",
    "#         cell = torch.zeros(self.num_layers, batch_size, self.hidden_dim).to(self.device)\n",
    "#         return (hidden, cell)\n",
    "\n",
    "#     def reset_hidden_state(self):\n",
    "#         self.hidden_team = None\n",
    "#         self.hidden_opp = None\n",
    "\n",
    "\n"
   ]
  },
  {
   "cell_type": "code",
   "execution_count": null,
   "metadata": {},
   "outputs": [],
   "source": []
  },
  {
   "cell_type": "code",
   "execution_count": null,
   "metadata": {},
   "outputs": [],
   "source": []
  },
  {
   "cell_type": "code",
   "execution_count": null,
   "metadata": {},
   "outputs": [],
   "source": [
    "# from torch.optim.lr_scheduler import StepLR\n",
    "# # Hyperparameters\n",
    "# historical_dim = 71  # Number of features in historical sequence\n",
    "# current_dim = 14     # Number of features in current match input\n",
    "# hidden_dim = 128      # Hidden units in LSTM\n",
    "# output_dim = 3       # Number of output classes (e.g., win, draw, lose)\n",
    "# num_layers = 1       # Number of LSTM layers\n",
    "\n",
    "# learning_rate = 0.0003\n",
    "# # Model, loss, and optimizer\n",
    "# model = SoccerLSTM(historical_dim, current_dim, hidden_dim, output_dim, num_layers).to(device)\n",
    "# criterion = nn.CrossEntropyLoss()\n",
    "# optimizer = torch.optim.Adam(model.parameters(), lr=learning_rate,weight_decay=1e-4)\n",
    "\n",
    "# scheduler = StepLR(optimizer,step_size = 2, gamma=0.5)  # T_max = total epochs\n",
    "\n"
   ]
  },
  {
   "cell_type": "code",
   "execution_count": null,
   "metadata": {},
   "outputs": [
    {
     "name": "stdout",
     "output_type": "stream",
     "text": [
      "Epoch 1/15, Train Loss: 1.0975, Validation Loss: 1.0367, Train Accuracy: 48.37%, Validation Accuracy: 54.44%\n",
      "Epoch 2/15, Train Loss: 1.0968, Validation Loss: 1.0170, Train Accuracy: 47.78%, Validation Accuracy: 55.16%\n",
      "Epoch 3/15, Train Loss: 1.0380, Validation Loss: 1.0030, Train Accuracy: 51.77%, Validation Accuracy: 54.92%\n",
      "Epoch 4/15, Train Loss: 1.0293, Validation Loss: 1.0048, Train Accuracy: 52.26%, Validation Accuracy: 55.08%\n",
      "Epoch 5/15, Train Loss: 1.0075, Validation Loss: 0.9929, Train Accuracy: 52.78%, Validation Accuracy: 55.56%\n",
      "Epoch 6/15, Train Loss: 1.0100, Validation Loss: 0.9863, Train Accuracy: 52.60%, Validation Accuracy: 55.71%\n",
      "Epoch 7/15, Train Loss: 1.0005, Validation Loss: 0.9816, Train Accuracy: 52.84%, Validation Accuracy: 55.40%\n",
      "Epoch 8/15, Train Loss: 1.0020, Validation Loss: 0.9866, Train Accuracy: 52.76%, Validation Accuracy: 55.40%\n",
      "Epoch 9/15, Train Loss: 0.9937, Validation Loss: 0.9757, Train Accuracy: 52.90%, Validation Accuracy: 55.48%\n",
      "Epoch 10/15, Train Loss: 0.9943, Validation Loss: 0.9713, Train Accuracy: 52.74%, Validation Accuracy: 55.48%\n",
      "Epoch 11/15, Train Loss: 0.9851, Validation Loss: 0.9682, Train Accuracy: 52.92%, Validation Accuracy: 55.48%\n",
      "Epoch 12/15, Train Loss: 0.9851, Validation Loss: 0.9710, Train Accuracy: 53.06%, Validation Accuracy: 55.48%\n",
      "Epoch 13/15, Train Loss: 0.9891, Validation Loss: 0.9684, Train Accuracy: 52.84%, Validation Accuracy: 55.40%\n",
      "Epoch 14/15, Train Loss: 0.9879, Validation Loss: 0.9664, Train Accuracy: 52.94%, Validation Accuracy: 55.48%\n",
      "Epoch 15/15, Train Loss: 0.9859, Validation Loss: 0.9650, Train Accuracy: 53.00%, Validation Accuracy: 55.56%\n"
     ]
    },
    {
     "data": {
      "image/png": "[encoded data removed]",
      "text/plain": [
       "<Figure size 1800x600 with 4 Axes>"
      ]
     },
     "metadata": {},
     "output_type": "display_data"
    }
   ],
   "source": [
    "# import matplotlib.pyplot as plt\n",
    "# import numpy as np\n",
    "# from sklearn.metrics import confusion_matrix, ConfusionMatrixDisplay\n",
    "# epochs = 15\n",
    "\n",
    "# # Lists to store losses and accuracies for plotting\n",
    "# train_losses = []\n",
    "# val_losses = []\n",
    "# train_accuracies = []\n",
    "# val_accuracies = []\n",
    "\n",
    "# for epoch in range(epochs):\n",
    "#     model.train()\n",
    "#     model.reset_hidden_state()  # Reset hidden state at the start of each epoch\n",
    "#     train_loss = 0.0\n",
    "#     correct_train = 0\n",
    "#     total_train = 0\n",
    "\n",
    "#     for historical_team, historical_opp, current, target in train_loader:\n",
    "#         historical_team, historical_opp, current, target = (\n",
    "#             historical_team.to(device),\n",
    "#             historical_opp.to(device),\n",
    "#             current.to(device),\n",
    "#             target.to(device)\n",
    "#         )\n",
    "\n",
    "#         # Zero gradients\n",
    "#         optimizer.zero_grad()\n",
    "\n",
    "#         # Forward pass\n",
    "#         output = model(historical_team, historical_opp, current)\n",
    "#         loss = criterion(output, target)\n",
    "\n",
    "#         # Backward pass and optimization\n",
    "#         loss.backward()\n",
    "#         optimizer.step()\n",
    "\n",
    "\n",
    "#         train_loss += loss.item()\n",
    "\n",
    "#         # Calculate train accuracy\n",
    "#         _, predicted = torch.max(output, 1)\n",
    "#         total_train += target.size(0)\n",
    "#         correct_train += (predicted == target).sum().item()\n",
    "#     scheduler.step()\n",
    "#     train_losses.append(train_loss / len(train_loader))\n",
    "#     train_accuracies.append(correct_train / total_train * 100)\n",
    "\n",
    "#     # Validation phase\n",
    "#     model.eval()\n",
    "#     model.reset_hidden_state()  # Reset hidden state for validation\n",
    "\n",
    "#     val_loss = 0.0\n",
    "#     correct_val = 0\n",
    "#     total_val = 0\n",
    "#     all_targets = []\n",
    "#     all_predictions = []\n",
    "\n",
    "#     with torch.no_grad():\n",
    "#         for historical_team, historical_opp, current, target in test_loader:\n",
    "#             historical_team, historical_opp, current, target = historical_team.to(device), historical_opp.to(device), current.to(device), target.to(device)\n",
    "\n",
    "#             # Forward pass\n",
    "#             output = model(historical_team, historical_opp,  current)\n",
    "#             loss = criterion(output, target)\n",
    "#             val_loss += loss.item()\n",
    "\n",
    "#             _, predicted = torch.max(output, 1)\n",
    "\n",
    "#             total_val += target.size(0)\n",
    "#             correct_val += (predicted == target).sum().item()\n",
    "\n",
    "#             # Collect all targets and predictions for confusion matrix\n",
    "#             all_targets.extend(target.cpu().numpy())\n",
    "#             all_predictions.extend(predicted.cpu().numpy())\n",
    "\n",
    "#     val_losses.append(val_loss / len(test_loader))\n",
    "#     val_accuracies.append(correct_val / total_val * 100)\n",
    "\n",
    "#     print(f\"Epoch {epoch+1}/{epochs}, Train Loss: {train_losses[-1]:.4f}, \"\n",
    "#           f\"Validation Loss: {val_losses[-1]:.4f}, \"\n",
    "#           f\"Train Accuracy: {train_accuracies[-1]:.2f}%, \"\n",
    "#           f\"Validation Accuracy: {val_accuracies[-1]:.2f}%\")\n",
    "\n",
    "# # Plot training and validation loss, accuracies\n",
    "# plt.figure(figsize=(18, 6))\n",
    "\n",
    "# # Loss plot\n",
    "# plt.subplot(1, 3, 1)\n",
    "# plt.plot(range(1, epochs + 1), train_losses, label='Train Loss')\n",
    "# plt.plot(range(1, epochs + 1), val_losses, label='Validation Loss')\n",
    "# plt.xlabel('Epoch')\n",
    "# plt.ylabel('Loss')\n",
    "# plt.title('Training and Validation Loss')\n",
    "# plt.legend()\n",
    "\n",
    "# # Train and validation accuracy plot\n",
    "# plt.subplot(1, 3, 2)\n",
    "# plt.plot(range(1, epochs + 1), train_accuracies, label='Train Accuracy')\n",
    "# plt.plot(range(1, epochs + 1), val_accuracies, label='Validation Accuracy')\n",
    "# plt.xlabel('Epoch')\n",
    "# plt.ylabel('Accuracy (%)')\n",
    "# plt.title('Train and Validation Accuracy')\n",
    "# plt.legend()\n",
    "\n",
    "# # Confusion matrix\n",
    "# plt.subplot(1, 3, 3)\n",
    "# cm = confusion_matrix(all_targets, all_predictions)\n",
    "# disp = ConfusionMatrixDisplay(confusion_matrix=cm)\n",
    "# disp.plot(ax=plt.gca(), cmap='Blues')\n",
    "# plt.title('Confusion Matrix')\n",
    "\n",
    "# plt.tight_layout()\n",
    "# plt.show()\n"
   ]
  },
  {
   "cell_type": "code",
   "execution_count": null,
   "metadata": {},
   "outputs": [],
   "source": []
  },
  {
   "cell_type": "markdown",
   "metadata": {},
   "source": [
    "### MULTI HEAD LSTM\n"
   ]
  },
  {
   "cell_type": "code",
   "execution_count": null,
   "metadata": {},
   "outputs": [],
   "source": []
  },
  {
   "cell_type": "code",
   "execution_count": 811,
   "metadata": {},
   "outputs": [],
   "source": [
    "import torch\n",
    "import torch.nn as nn\n",
    "\n",
    "# Example TeamLSTMHead definition\n",
    "class TeamLSTMHead(nn.Module):\n",
    "    def __init__(self, historical_dim, hidden_dim, num_layers=1, device='cuda'):\n",
    "        super(TeamLSTMHead, self).__init__()\n",
    "        self.device = torch.device(device)\n",
    "        self.hidden_dim = hidden_dim\n",
    "        self.num_layers = num_layers\n",
    "        \n",
    "        self.lstm = nn.LSTM(input_size=historical_dim,\n",
    "                            hidden_size=hidden_dim,\n",
    "                            num_layers=num_layers,\n",
    "                            batch_first=True)\n",
    "        self.hidden = None\n",
    "\n",
    "    def forward(self, x):\n",
    "        # x: (batch_size, seq_length, historical_dim)\n",
    "        if self.hidden is None:\n",
    "            batch_size = x.size(0)\n",
    "            self.hidden = self.init_hidden(batch_size)\n",
    "        \n",
    "        # Detach the hidden state to prevent gradients flowing from previous batches\n",
    "        self.hidden = (self.hidden[0].detach(), self.hidden[1].detach())\n",
    "\n",
    "        out, self.hidden = self.lstm(x, self.hidden)\n",
    "        # Take the last time step's output as the sequence representation\n",
    "        final_out = out[:, -1, :]  # (batch_size, hidden_dim)\n",
    "        return final_out\n",
    "\n",
    "    def init_hidden(self, batch_size):\n",
    "        hidden = torch.zeros(self.num_layers, batch_size, self.hidden_dim).to(self.device)\n",
    "        cell = torch.zeros(self.num_layers, batch_size, self.hidden_dim).to(self.device)\n",
    "        return (hidden, cell)\n",
    "\n",
    "    def reset_hidden_state(self):\n",
    "        self.hidden = None\n",
    "\n",
    "# Extract unique teams from your dataframe\n",
    "unique_teams = new_df['team'].unique()\n",
    "\n",
    "# Define your model parameters\n",
    "historical_dim = 71  # Example: match your prepared sequences dimensionality\n",
    "hidden_dim = 128\n",
    "num_layers = 1\n",
    "device = 'cuda' if torch.cuda.is_available() else 'cpu'\n",
    "\n",
    "# Create a dictionary of LSTM heads keyed by team name\n",
    "team_lstm_heads = {}\n",
    "for team in unique_teams:\n",
    "    team_lstm_heads[team] = TeamLSTMHead(historical_dim=historical_dim, \n",
    "                                         hidden_dim=hidden_dim, \n",
    "                                         num_layers=num_layers,\n",
    "                                         device=device)\n",
    "    torch.save(team_lstm_heads[team].state_dict(), f\"./models/{team}_head.pth\")"
   ]
  },
  {
   "cell_type": "code",
   "execution_count": 812,
   "metadata": {},
   "outputs": [],
   "source": [
    "team_metrics = {\n",
    "    team: {\n",
    "        'losses': [],\n",
    "        'accuracies': [],\n",
    "        'confusion_matrices': [],\n",
    "        'epochs': []  # track which team-epoch these metrics correspond to\n",
    "    }\n",
    "    for team in unique_teams\n",
    "}\n",
    "\n",
    "# For global metrics\n",
    "global_metrics = {\n",
    "    'losses': [],\n",
    "    'accuracies': [],\n",
    "    'confusion_matrices': [],\n",
    "    'global_epochs': []\n",
    "}\n"
   ]
  },
  {
   "cell_type": "code",
   "execution_count": 813,
   "metadata": {},
   "outputs": [],
   "source": [
    "# Parameters\n",
    "sequence_length = 40  # Number of past matches to include in the sequence\n",
    "\n",
    "# Dictionary to store sequences for each team by match_id\n",
    "team_sequences = {}\n",
    "\n",
    "# Create sequences for each team\n",
    "for team, group in new_df.groupby('team'):\n",
    "    # Ensure matches are sorted chronologically\n",
    "    group = group.sort_values('date')\n",
    "    \n",
    "    # Create sequences\n",
    "    for i in range(len(group) - sequence_length):\n",
    "        # Extract match_id for the current match\n",
    "        match_id = group.iloc[i + sequence_length]['match_id']\n",
    "        \n",
    "        # Historical sequence: last `sequence_length` matches (including 'date')\n",
    "        historical = group.iloc[i:i+sequence_length][[\n",
    "             # Add 'date' to the historical sequence\n",
    "            'goalsScored','goalsConceded','FTR','is_home',\n",
    "            'team_Attack', 'team_Defence',\n",
    "            'team_GlickoRating', 'team_GlickoLower', 'team_GlickoUpper',\n",
    "            'team_PassPower', 'team_BoxPresence', 'team_groundDuelPercent',\n",
    "            'team_aerialDuelPercent', 'team_DuelPower', 'team_PossessionEfficiency',\n",
    "            'team_finalThirdEfficiency', 'team_FoulThreatIndex', 'team_XGc',\n",
    "            'team_ATI', 'team_TerritorialDominance', 'team_PassingDisruption',\n",
    "            'team_TransitionEfficiency', 'team_wonTackle', 'team_PressureIndex',\n",
    "            'team_xDS', 'team_Discipline', 'opp_Attack',\n",
    "            'opp_Defence', 'opp_GlickoRating', 'opp_GlickoLower', 'opp_GlickoUpper',\n",
    "            'opp_PassPower', 'opp_BoxPresence', 'opp_groundDuelPercent',\n",
    "            'opp_aerialDuelPercent', 'opp_DuelPower', 'opp_PossessionEfficiency',\n",
    "            'opp_finalThirdEfficiency', 'opp_FoulThreatIndex', 'opp_XGc', 'opp_ATI',\n",
    "            'opp_TerritorialDominance', 'opp_PassingDisruption',\n",
    "            'opp_TransitionEfficiency', 'opp_wonTackle', 'opp_PressureIndex',\n",
    "            'opp_xDS', 'opp_Discipline', 'glickoDiff', 'glickoDiffUpper',\n",
    "            'glickoDiffLower','diff_Attack', 'diff_Defence','diff_PassPower', 'diff_BoxPresence', \n",
    "            'diff_groundDuelPercent', 'diff_aerialDuelPercent', 'diff_DuelPower', \n",
    "            'diff_PossessionEfficiency', 'diff_finalThirdEfficiency', \n",
    "            'diff_FoulThreatIndex', 'diff_XGc', 'diff_ATI', 'diff_TerritorialDominance', \n",
    "            'diff_PassingDisruption', 'diff_TransitionEfficiency', 'diff_wonTackle', \n",
    "            'diff_PressureIndex', 'diff_xDS', 'diff_Discipline','diff_goals']].values\n",
    "        \n",
    "        # Store the sequence in the dictionary\n",
    "        if team not in team_sequences:\n",
    "            team_sequences[team] = {}\n",
    "        team_sequences[team][match_id] = {'match_id': match_id, 'historical': historical}\n"
   ]
  },
  {
   "cell_type": "code",
   "execution_count": 814,
   "metadata": {},
   "outputs": [],
   "source": [
    "from collections import defaultdict\n",
    "\n",
    "data_sequences_by_team = defaultdict(list)\n",
    "\n",
    "for idx, row in new_df.iterrows():\n",
    "    team = row['team']\n",
    "    opponent = row['opponent']\n",
    "    match_id = row['match_id']\n",
    "    \n",
    "    # Get the team's historical sequence\n",
    "    historical_team = team_sequences.get(team, {}).get(match_id, {}).get('historical', [[0]*71]*sequence_length)\n",
    "    \n",
    "    # Get the opponent's historical sequence\n",
    "    historical_opponent = team_sequences.get(opponent, {}).get(match_id, {}).get('historical', [[0]*71]*sequence_length)\n",
    "    \n",
    "    # Current match features\n",
    "    current = row[['is_home', 'team_Attack', 'team_Defence',\n",
    "                   'team_GlickoRating', 'team_GlickoLower', 'team_GlickoUpper',\n",
    "                   'opp_Attack', 'opp_Defence', 'opp_GlickoRating',\n",
    "                   'opp_GlickoLower', 'opp_GlickoUpper', 'glickoDiff', \n",
    "                   'glickoDiffUpper', 'glickoDiffLower']].values\n",
    "    \n",
    "    # Target\n",
    "    target = row['FTR']\n",
    "    \n",
    "    # Append to the team-specific list\n",
    "    data_sequences_by_team[team].append({\n",
    "        'match_id': match_id,\n",
    "        'team': team,\n",
    "        'opponent': opponent,\n",
    "        'historical_team': historical_team,\n",
    "        'historical_opponent': historical_opponent,\n",
    "        'current': current,\n",
    "        'target': target\n",
    "    })\n"
   ]
  },
  {
   "cell_type": "code",
   "execution_count": null,
   "metadata": {},
   "outputs": [],
   "source": []
  },
  {
   "cell_type": "code",
   "execution_count": 865,
   "metadata": {},
   "outputs": [],
   "source": [
    "from sklearn.model_selection import train_test_split\n",
    "from torch.utils.data import Dataset, DataLoader\n",
    "\n",
    "class SoccerDataset(Dataset):\n",
    "    def __init__(self, sequences):\n",
    "        self.sequences = sequences\n",
    "    \n",
    "    def __len__(self):\n",
    "        return len(self.sequences)\n",
    "    \n",
    "    \n",
    "    def __getitem__(self, idx):\n",
    "        seq = self.sequences[idx]\n",
    "        # Convert arrays to tensors\n",
    "        historical_team = torch.from_numpy(seq['historical_team'])\n",
    "        historical_opponent = torch.from_numpy(seq['historical_opponent'])\n",
    "        current = torch.from_numpy(seq['current'])\n",
    "        target = torch.tensor(seq['target'], dtype=torch.long)\n",
    "        opponent_team_name = seq['opponent']\n",
    "        return historical_team, historical_opponent, current, target, opponent_team_name\n",
    "\n",
    "team_train_loaders = {}\n",
    "team_test_loaders = {}\n",
    "\n",
    "for team_name, team_data in data_sequences_by_team.items():\n",
    "\n",
    "    # Assuming `data_sequences` is sorted in chronological order\n",
    "    split_index = int(len(team_data) * 0.8)  # Calculate the 80% split index\n",
    "\n",
    "    # Split data\n",
    "    train_data = team_data[:split_index]  # First 80% for training\n",
    "    test_data = team_data[split_index:]   # Last 20% for testing\n",
    "    \n",
    "    # Create Dataset objects\n",
    "    train_dataset = SoccerDataset(train_data)\n",
    "    test_dataset = SoccerDataset(test_data)\n",
    "\n",
    "    # Create DataLoaders\n",
    "    # Adjust batch_size and shuffle as needed\n",
    "    train_loader = DataLoader(train_dataset, batch_size=1, shuffle=False)\n",
    "    test_loader = DataLoader(test_dataset, batch_size=1, shuffle=False)\n",
    "\n",
    "    # Store the loaders in dictionaries keyed by team name\n",
    "    team_train_loaders[team_name] = train_loader\n",
    "    team_test_loaders[team_name] = test_loader\n",
    "\n",
    "# Now you have a dictionary of train loaders and test loaders for each team\n",
    "# For example:\n",
    "# team_train_loaders['TeamA'] gives you the DataLoader for TeamA's training data\n",
    "# team_test_loaders['TeamB'] gives you the DataLoader for TeamB's test data\n"
   ]
  },
  {
   "cell_type": "code",
   "execution_count": 866,
   "metadata": {},
   "outputs": [],
   "source": [
    "for team, sequences in data_sequences_by_team.items():\n",
    "    for seq in sequences:\n",
    "        seq['historical_team'] = np.array(seq['historical_team'], dtype=np.float32)\n",
    "        seq['historical_opponent'] = np.array(seq['historical_opponent'], dtype=np.float32)\n",
    "        seq['current'] = np.array(seq['current'], dtype=np.float32)\n",
    "        seq['target'] = np.array(seq['target'], dtype=np.int64)\n"
   ]
  },
  {
   "cell_type": "code",
   "execution_count": 867,
   "metadata": {},
   "outputs": [],
   "source": [
    "class SoccerLSTM(nn.Module):\n",
    "    def __init__(self, current_dim, hidden_dim, output_dim, device='cuda'):\n",
    "        super(SoccerLSTM, self).__init__()\n",
    "        self.device = torch.device(device)\n",
    "        # No internal LSTMs here, these will be passed in at forward time\n",
    "        self.fc = nn.Sequential(\n",
    "            nn.Linear((hidden_dim * 2) + current_dim, 512), \n",
    "            nn.LeakyReLU(),\n",
    "            nn.Dropout(0.3),\n",
    "            nn.Linear(512, 256),\n",
    "            nn.LeakyReLU(),\n",
    "            nn.Dropout(0.3),\n",
    "            nn.Linear(256, 128),\n",
    "            nn.LeakyReLU(),\n",
    "            nn.Dropout(0.2),\n",
    "            nn.Linear(128, output_dim)\n",
    "        )\n",
    "\n",
    "    def forward(self, historical_team, team_head, historical_opp, opp_head, current):\n",
    "        # team_head and opp_head are TeamLSTMHead instances\n",
    "        team_out = team_head(historical_team)  # returns final hidden state for the team\n",
    "        opp_out = opp_head(historical_opp)      # returns final hidden state for the opponent\n",
    "        \n",
    "        combined = torch.cat((team_out, opp_out, current), dim=1)\n",
    "        output = self.fc(combined)\n",
    "        return output\n"
   ]
  },
  {
   "cell_type": "code",
   "execution_count": 868,
   "metadata": {},
   "outputs": [],
   "source": [
    "model = SoccerLSTM(\n",
    "    current_dim=14,\n",
    "    hidden_dim=128,\n",
    "    output_dim=3,  # number of classes (Win, Draw, Loss)\n",
    "    device=device\n",
    ").to(device)\n"
   ]
  },
  {
   "cell_type": "code",
   "execution_count": 869,
   "metadata": {},
   "outputs": [],
   "source": [
    "def train_one_team_epoch(main_team, main_head, team_lstm_heads, train_loader, model, criterion, optimizer, device='cuda'):\n",
    "    \"\"\"\n",
    "    Trains the main team's LSTM head for one epoch on the team's training data.\n",
    "    \n",
    "    Parameters:\n",
    "    - main_team (str): The name of the main team being trained.\n",
    "    - main_head (nn.Module): The LSTM head of the main team, trainable.\n",
    "    - team_lstm_heads (dict): A dictionary of team_name -> LSTM head (opponents).\n",
    "    - train_loader (DataLoader): The DataLoader providing batches of the main team's training data.\n",
    "    - model (nn.Module): The main model that combines the LSTM heads and FC layers.\n",
    "    - criterion: The loss function (e.g., nn.CrossEntropyLoss).\n",
    "    - optimizer (torch.optim.Optimizer): The optimizer for main_head and model parameters.\n",
    "    - device (str): 'cuda' or 'cpu'.\n",
    "\n",
    "    Returns:\n",
    "    - float: The average training loss for this epoch.\n",
    "    \"\"\"\n",
    "\n",
    "    model.train()\n",
    "    main_head.train()\n",
    "    \n",
    "    # Ensure the main head is trainable\n",
    "    for param in main_head.parameters():\n",
    "        param.requires_grad = True\n",
    "\n",
    "    # The opponent heads should be frozen (no gradient updates)\n",
    "    for team_name, opp_head in team_lstm_heads.items():\n",
    "        if team_name != main_team:\n",
    "            opp_head.eval()  # Put opponent heads in eval mode\n",
    "            for param in opp_head.parameters():\n",
    "                param.requires_grad = False\n",
    "        else:\n",
    "            # The main team head is already set to train above\n",
    "            pass\n",
    "\n",
    "    running_loss = 0.0\n",
    "    total_samples = 0\n",
    "    \n",
    "    # Reset hidden states for the main head (if needed)\n",
    "    main_head.reset_hidden_state()\n",
    "\n",
    "    for batch in train_loader:\n",
    "        historical_team, historical_opp, current, target, opponent_team_name = batch\n",
    "        \n",
    "        # Move tensors to device\n",
    "        historical_team = historical_team.to(device)\n",
    "        historical_opp = historical_opp.to(device)\n",
    "        current = current.to(device)\n",
    "        target = target.to(device)\n",
    "        # Get the opponent head\n",
    "        opp_head = team_lstm_heads[opponent_team_name[0]]\n",
    "        \n",
    "        # Reset gradients\n",
    "        optimizer.zero_grad()\n",
    "        \n",
    "        # Forward pass\n",
    "        output = model(historical_team, main_head, historical_opp, opp_head, current)\n",
    "        \n",
    "        # Compute loss\n",
    "        loss = criterion(output, target)\n",
    "        \n",
    "        # Backward pass\n",
    "        loss.backward()\n",
    "        \n",
    "        # Update parameters\n",
    "        optimizer.step()\n",
    "        \n",
    "        # Accumulate metrics\n",
    "        batch_size = target.size(0)\n",
    "        running_loss += loss.item() * batch_size\n",
    "        total_samples += batch_size\n",
    "\n",
    "        # Optionally reset hidden states if you want to treat each batch as a separate sequence\n",
    "        # main_head.reset_hidden_state()\n",
    "        # If your LSTM heads are stateful across batches of the same epoch,\n",
    "        # you might choose not to reset here, depending on your approach.\n",
    "\n",
    "    avg_loss = running_loss / total_samples if total_samples > 0 else 0.0\n",
    "    return avg_loss\n"
   ]
  },
  {
   "cell_type": "code",
   "execution_count": null,
   "metadata": {},
   "outputs": [],
   "source": [
    "from sklearn.metrics import confusion_matrix\n",
    "\n",
    "def evaluate_team_performance(main_team, main_head, team_lstm_heads, team_val_loaders, model, criterion, device='cuda'):\n",
    "    model.eval()\n",
    "    main_head.eval()\n",
    "    # Opponent heads will be used in eval mode as well\n",
    "    for opp_team_head in team_lstm_heads.values():\n",
    "        opp_team_head.eval()\n",
    "    \n",
    "    all_preds = []\n",
    "    all_targets = []\n",
    "    total_loss = 0.0\n",
    "    total_samples = 0\n",
    "\n",
    "    with torch.no_grad():\n",
    "        for batch in team_val_loaders:\n",
    "            # batch might include: historical_team, historical_opp, current, target, opp_team_name\n",
    "            historical_team, historical_opp, current, target, opp_team_name = batch\n",
    "            historical_team = historical_team.to(device)\n",
    "            historical_opp = historical_opp.to(device)\n",
    "            current = current.to(device)\n",
    "            target = target.to(device)\n",
    "\n",
    "            # Fetch the opponent head\n",
    "            opp_head = team_lstm_heads[opp_team_name[0]]\n",
    "            \n",
    "            # Forward pass\n",
    "            output = model(historical_team, main_head, historical_opp, opp_head, current)\n",
    "            \n",
    "            # Compute loss\n",
    "            loss = criterion(output, target)\n",
    "            total_loss += loss.item() * target.size(0)\n",
    "            total_samples += target.size(0)\n",
    "\n",
    "            # Predictions\n",
    "            _, preds = torch.max(output, dim=1)\n",
    "            all_preds.append(preds.cpu().numpy())\n",
    "            all_targets.append(target.cpu().numpy())\n",
    "    \n",
    "    # Concatenate all predictions and targets\n",
    "    all_preds = np.concatenate(all_preds)\n",
    "    all_targets = np.concatenate(all_targets)\n",
    "\n",
    "    # Compute final metrics\n",
    "    avg_loss = total_loss / total_samples\n",
    "    print(total_sample)\n",
    "    accuracy = (all_preds == all_targets).mean()\n",
    "    cm = confusion_matrix(all_targets, all_preds)\n",
    "\n",
    "    # Store metrics for this team-epoch\n",
    "    # You should have a variable like current_team_epoch that you increment each time you train the team\n",
    "    current_team_epoch = len(team_metrics[main_team]['epochs']) + 1\n",
    "    team_metrics[main_team]['losses'].append(avg_loss)\n",
    "    team_metrics[main_team]['accuracies'].append(accuracy)\n",
    "    team_metrics[main_team]['confusion_matrices'].append(cm)\n",
    "    team_metrics[main_team]['epochs'].append(current_team_epoch)\n",
    "\n",
    "    return accuracy  # Return the metric for patience checking\n"
   ]
  },
  {
   "cell_type": "code",
   "execution_count": 871,
   "metadata": {},
   "outputs": [],
   "source": [
    "def evaluate_global_performance(team_lstm_heads, team_val_loaders, model, criterion, device='cuda'):\n",
    "    model.eval()\n",
    "    for head in team_lstm_heads.values():\n",
    "        head.eval()\n",
    "\n",
    "    all_preds = []\n",
    "    all_targets = []\n",
    "    total_loss = 0.0\n",
    "    total_samples = 0\n",
    "\n",
    "    # Iterate over every team’s validation set to create a global assessment\n",
    "    for main_team, val_loader in team_val_loaders.items():\n",
    "        with torch.no_grad():\n",
    "            for batch in val_loader:\n",
    "                historical_team, historical_opp, current, target, opp_team_name = batch\n",
    "                historical_team = historical_team.to(device)\n",
    "                historical_opp = historical_opp.to(device)\n",
    "                current = current.to(device)\n",
    "                target = target.to(device)\n",
    "\n",
    "                main_head = team_lstm_heads[main_team]\n",
    "                opp_head = team_lstm_heads[opp_team_name[0]]\n",
    "\n",
    "                output = model(historical_team, main_head, historical_opp, opp_head, current)\n",
    "                \n",
    "                loss = criterion(output, target)\n",
    "                total_loss += loss.item() * target.size(0)\n",
    "                total_samples += target.size(0)\n",
    "\n",
    "                _, preds = torch.max(output, dim=1)\n",
    "                all_preds.append(preds.cpu().numpy())\n",
    "                all_targets.append(target.cpu().numpy())\n",
    "\n",
    "    all_preds = np.concatenate(all_preds)\n",
    "    all_targets = np.concatenate(all_targets)\n",
    "\n",
    "    avg_loss = total_loss / total_samples\n",
    "    accuracy = (all_preds == all_targets).mean()\n",
    "    cm = confusion_matrix(all_targets, all_preds)\n",
    "\n",
    "    current_global_epoch = len(global_metrics['global_epochs']) + 1\n",
    "    global_metrics['losses'].append(avg_loss)\n",
    "    global_metrics['accuracies'].append(accuracy)\n",
    "    global_metrics['confusion_matrices'].append(cm)\n",
    "    global_metrics['global_epochs'].append(current_global_epoch)\n",
    "\n",
    "    return accuracy\n"
   ]
  },
  {
   "cell_type": "code",
   "execution_count": 872,
   "metadata": {},
   "outputs": [],
   "source": [
    "model.to(device)\n",
    "for head in team_lstm_heads.values():\n",
    "    head.to(device)\n"
   ]
  },
  {
   "cell_type": "code",
   "execution_count": null,
   "metadata": {},
   "outputs": [
    {
     "name": "stderr",
     "output_type": "stream",
     "text": [
      "Global Epochs:   0%|          | 0/3 [00:00<?, ?it/s]"
     ]
    },
    {
     "name": "stdout",
     "output_type": "stream",
     "text": [
      "Starting Global Epoch 1\n"
     ]
    },
    {
     "name": "stderr",
     "output_type": "stream",
     "text": []
    },
    {
     "name": "stdout",
     "output_type": "stream",
     "text": [
      "Team: Hull City, Current Score: 0.625\n",
      "Team: Hull City, Current Score: 0.625\n",
      "Team: Hull City, Current Score: 0.625\n",
      "Team: Hull City, Current Score: 0.625\n",
      "Team: Hull City, Current Score: 0.625\n"
     ]
    },
    {
     "name": "stderr",
     "output_type": "stream",
     "text": []
    },
    {
     "name": "stdout",
     "output_type": "stream",
     "text": [
      "Team: Hull City, Current Score: 0.625\n",
      "Team: Hull City, Current Score: 0.625\n",
      "No improvement for team Hull City after 5 attempts. Stopping early.\n",
      "Team: Leicester City, Current Score: 0.5178571428571429\n",
      "Team: Leicester City, Current Score: 0.5\n",
      "Team: Leicester City, Current Score: 0.5\n",
      "Team: Leicester City, Current Score: 0.5\n",
      "Team: Leicester City, Current Score: 0.5\n",
      "Team: Leicester City, Current Score: 0.5\n"
     ]
    },
    {
     "name": "stderr",
     "output_type": "stream",
     "text": []
    },
    {
     "name": "stdout",
     "output_type": "stream",
     "text": [
      "Team: Leicester City, Current Score: 0.5\n",
      "No improvement for team Leicester City after 5 attempts. Stopping early.\n",
      "Team: Crystal Palace, Current Score: 0.4603174603174603\n",
      "Team: Crystal Palace, Current Score: 0.4444444444444444\n",
      "Team: Crystal Palace, Current Score: 0.4444444444444444\n",
      "Team: Crystal Palace, Current Score: 0.4603174603174603\n",
      "Team: Crystal Palace, Current Score: 0.42857142857142855\n",
      "Team: Crystal Palace, Current Score: 0.42857142857142855\n"
     ]
    },
    {
     "name": "stderr",
     "output_type": "stream",
     "text": []
    },
    {
     "name": "stdout",
     "output_type": "stream",
     "text": [
      "Team: Crystal Palace, Current Score: 0.42857142857142855\n",
      "No improvement for team Crystal Palace after 5 attempts. Stopping early.\n",
      "Team: West Bromwich Albion, Current Score: 0.5652173913043478\n",
      "Team: West Bromwich Albion, Current Score: 0.5217391304347826\n",
      "Team: West Bromwich Albion, Current Score: 0.5652173913043478\n",
      "Team: West Bromwich Albion, Current Score: 0.5652173913043478\n",
      "Team: West Bromwich Albion, Current Score: 0.5652173913043478\n",
      "Team: West Bromwich Albion, Current Score: 0.5652173913043478\n"
     ]
    },
    {
     "name": "stderr",
     "output_type": "stream",
     "text": []
    },
    {
     "name": "stdout",
     "output_type": "stream",
     "text": [
      "Team: West Bromwich Albion, Current Score: 0.5652173913043478\n",
      "No improvement for team West Bromwich Albion after 5 attempts. Stopping early.\n",
      "Team: Burnley, Current Score: 0.5370370370370371\n",
      "Team: Burnley, Current Score: 0.5555555555555556\n",
      "Team: Burnley, Current Score: 0.5740740740740741\n",
      "Team: Burnley, Current Score: 0.6111111111111112\n",
      "Team: Burnley, Current Score: 0.6111111111111112\n",
      "Team: Burnley, Current Score: 0.5555555555555556\n",
      "Team: Burnley, Current Score: 0.5925925925925926\n",
      "Team: Burnley, Current Score: 0.5925925925925926\n",
      "Team: Burnley, Current Score: 0.5370370370370371\n"
     ]
    },
    {
     "name": "stderr",
     "output_type": "stream",
     "text": []
    },
    {
     "name": "stdout",
     "output_type": "stream",
     "text": [
      "Team: Burnley, Current Score: 0.5555555555555556\n",
      "No improvement for team Burnley after 5 attempts. Stopping early.\n",
      "Team: Swansea City, Current Score: 0.25\n",
      "Team: Swansea City, Current Score: 0.25\n",
      "Team: Swansea City, Current Score: 0.25\n",
      "Team: Swansea City, Current Score: 0.25\n",
      "Team: Swansea City, Current Score: 0.25\n",
      "Team: Swansea City, Current Score: 0.25\n"
     ]
    },
    {
     "name": "stderr",
     "output_type": "stream",
     "text": []
    },
    {
     "name": "stdout",
     "output_type": "stream",
     "text": [
      "Team: Swansea City, Current Score: 0.25\n",
      "No improvement for team Swansea City after 5 attempts. Stopping early.\n",
      "Team: Middlesbrough, Current Score: 0.625\n",
      "Team: Middlesbrough, Current Score: 0.625\n",
      "Team: Middlesbrough, Current Score: 0.625\n",
      "Team: Middlesbrough, Current Score: 0.625\n",
      "Team: Middlesbrough, Current Score: 0.625\n"
     ]
    },
    {
     "name": "stderr",
     "output_type": "stream",
     "text": []
    },
    {
     "name": "stdout",
     "output_type": "stream",
     "text": [
      "Team: Middlesbrough, Current Score: 0.625\n",
      "Team: Middlesbrough, Current Score: 0.625\n",
      "No improvement for team Middlesbrough after 5 attempts. Stopping early.\n",
      "Team: Stoke City, Current Score: 0.4375\n",
      "Team: Stoke City, Current Score: 0.4375\n",
      "Team: Stoke City, Current Score: 0.4375\n",
      "Team: Stoke City, Current Score: 0.4375\n",
      "Team: Stoke City, Current Score: 0.4375\n",
      "Team: Stoke City, Current Score: 0.4375\n"
     ]
    },
    {
     "name": "stderr",
     "output_type": "stream",
     "text": []
    },
    {
     "name": "stdout",
     "output_type": "stream",
     "text": [
      "Team: Stoke City, Current Score: 0.4375\n",
      "No improvement for team Stoke City after 5 attempts. Stopping early.\n",
      "Team: Southampton, Current Score: 0.6785714285714286\n",
      "Team: Southampton, Current Score: 0.6071428571428571\n",
      "Team: Southampton, Current Score: 0.6785714285714286\n",
      "Team: Southampton, Current Score: 0.6785714285714286\n",
      "Team: Southampton, Current Score: 0.6607142857142857\n",
      "Team: Southampton, Current Score: 0.5714285714285714\n"
     ]
    },
    {
     "name": "stderr",
     "output_type": "stream",
     "text": []
    },
    {
     "name": "stdout",
     "output_type": "stream",
     "text": [
      "Team: Southampton, Current Score: 0.6607142857142857\n",
      "No improvement for team Southampton after 5 attempts. Stopping early.\n",
      "Team: Watford, Current Score: 0.6842105263157895\n",
      "Team: Watford, Current Score: 0.6842105263157895\n",
      "Team: Watford, Current Score: 0.6842105263157895\n",
      "Team: Watford, Current Score: 0.6842105263157895\n",
      "Team: Watford, Current Score: 0.6578947368421053\n",
      "Team: Watford, Current Score: 0.631578947368421\n"
     ]
    },
    {
     "name": "stderr",
     "output_type": "stream",
     "text": []
    },
    {
     "name": "stdout",
     "output_type": "stream",
     "text": [
      "Team: Watford, Current Score: 0.5\n",
      "No improvement for team Watford after 5 attempts. Stopping early.\n",
      "Team: Everton, Current Score: 0.38095238095238093\n",
      "Team: Everton, Current Score: 0.3968253968253968\n",
      "Team: Everton, Current Score: 0.38095238095238093\n",
      "Team: Everton, Current Score: 0.4126984126984127\n",
      "Team: Everton, Current Score: 0.36507936507936506\n",
      "Team: Everton, Current Score: 0.36507936507936506\n",
      "Team: Everton, Current Score: 0.4126984126984127\n",
      "Team: Everton, Current Score: 0.42857142857142855\n",
      "Team: Everton, Current Score: 0.4603174603174603\n",
      "Team: Everton, Current Score: 0.38095238095238093\n",
      "Team: Everton, Current Score: 0.3968253968253968\n",
      "Team: Everton, Current Score: 0.42857142857142855\n",
      "Team: Everton, Current Score: 0.4444444444444444\n",
      "Team: Everton, Current Score: 0.47619047619047616\n",
      "Team: Everton, Current Score: 0.4126984126984127\n",
      "Team: Everton, Current Score: 0.4444444444444444\n",
      "Team: Everton, Current Score: 0.42857142857142855\n",
      "Team: Everton, Current Score: 0.4444444444444444\n",
      "Team: Everton, Current Score: 0.4444444444444444\n"
     ]
    },
    {
     "name": "stderr",
     "output_type": "stream",
     "text": []
    },
    {
     "name": "stdout",
     "output_type": "stream",
     "text": [
      "Team: Everton, Current Score: 0.4444444444444444\n",
      "No improvement for team Everton after 5 attempts. Stopping early.\n",
      "Team: Tottenham Hotspur, Current Score: 0.49206349206349204\n",
      "Team: Tottenham Hotspur, Current Score: 0.5079365079365079\n",
      "Team: Tottenham Hotspur, Current Score: 0.49206349206349204\n",
      "Team: Tottenham Hotspur, Current Score: 0.49206349206349204\n",
      "Team: Tottenham Hotspur, Current Score: 0.5238095238095238\n",
      "Team: Tottenham Hotspur, Current Score: 0.5238095238095238\n",
      "Team: Tottenham Hotspur, Current Score: 0.5079365079365079\n",
      "Team: Tottenham Hotspur, Current Score: 0.5079365079365079\n",
      "Team: Tottenham Hotspur, Current Score: 0.5396825396825397\n",
      "Team: Tottenham Hotspur, Current Score: 0.5396825396825397\n",
      "Team: Tottenham Hotspur, Current Score: 0.47619047619047616\n",
      "Team: Tottenham Hotspur, Current Score: 0.5396825396825397\n",
      "Team: Tottenham Hotspur, Current Score: 0.49206349206349204\n",
      "Team: Tottenham Hotspur, Current Score: 0.5396825396825397\n"
     ]
    },
    {
     "name": "stderr",
     "output_type": "stream",
     "text": []
    },
    {
     "name": "stdout",
     "output_type": "stream",
     "text": [
      "Team: Tottenham Hotspur, Current Score: 0.5238095238095238\n",
      "No improvement for team Tottenham Hotspur after 5 attempts. Stopping early.\n",
      "Team: Manchester City, Current Score: 0.746031746031746\n",
      "Team: Manchester City, Current Score: 0.746031746031746\n",
      "Team: Manchester City, Current Score: 0.746031746031746\n",
      "Team: Manchester City, Current Score: 0.746031746031746\n",
      "Team: Manchester City, Current Score: 0.746031746031746\n",
      "Team: Manchester City, Current Score: 0.746031746031746\n"
     ]
    },
    {
     "name": "stderr",
     "output_type": "stream",
     "text": []
    },
    {
     "name": "stdout",
     "output_type": "stream",
     "text": [
      "Team: Manchester City, Current Score: 0.746031746031746\n",
      "No improvement for team Manchester City after 5 attempts. Stopping early.\n",
      "Team: Sunderland, Current Score: 0.5\n",
      "Team: Sunderland, Current Score: 0.625\n",
      "Team: Sunderland, Current Score: 0.625\n",
      "Team: Sunderland, Current Score: 0.625\n",
      "Team: Sunderland, Current Score: 0.625\n",
      "Team: Sunderland, Current Score: 0.625\n",
      "Team: Sunderland, Current Score: 0.625\n"
     ]
    },
    {
     "name": "stderr",
     "output_type": "stream",
     "text": []
    },
    {
     "name": "stdout",
     "output_type": "stream",
     "text": [
      "Team: Sunderland, Current Score: 0.625\n",
      "No improvement for team Sunderland after 5 attempts. Stopping early.\n",
      "Team: Bournemouth, Current Score: 0.4375\n",
      "Team: Bournemouth, Current Score: 0.5208333333333334\n",
      "Team: Bournemouth, Current Score: 0.4791666666666667\n",
      "Team: Bournemouth, Current Score: 0.5416666666666666\n",
      "Team: Bournemouth, Current Score: 0.4791666666666667\n",
      "Team: Bournemouth, Current Score: 0.5\n",
      "Team: Bournemouth, Current Score: 0.4166666666666667\n",
      "Team: Bournemouth, Current Score: 0.3958333333333333\n",
      "Team: Bournemouth, Current Score: 0.4166666666666667\n"
     ]
    },
    {
     "name": "stderr",
     "output_type": "stream",
     "text": []
    },
    {
     "name": "stdout",
     "output_type": "stream",
     "text": [
      "Team: Bournemouth, Current Score: 0.4166666666666667\n",
      "No improvement for team Bournemouth after 5 attempts. Stopping early.\n",
      "Team: Manchester United, Current Score: 0.5555555555555556\n",
      "Team: Manchester United, Current Score: 0.5555555555555556\n",
      "Team: Manchester United, Current Score: 0.5396825396825397\n",
      "Team: Manchester United, Current Score: 0.5714285714285714\n",
      "Team: Manchester United, Current Score: 0.5238095238095238\n",
      "Team: Manchester United, Current Score: 0.47619047619047616\n",
      "Team: Manchester United, Current Score: 0.5714285714285714\n",
      "Team: Manchester United, Current Score: 0.49206349206349204\n",
      "Team: Manchester United, Current Score: 0.47619047619047616\n"
     ]
    },
    {
     "name": "stderr",
     "output_type": "stream",
     "text": []
    },
    {
     "name": "stdout",
     "output_type": "stream",
     "text": [
      "Team: Manchester United, Current Score: 0.4603174603174603\n",
      "No improvement for team Manchester United after 5 attempts. Stopping early.\n",
      "Team: Arsenal, Current Score: 0.6349206349206349\n",
      "Team: Arsenal, Current Score: 0.6349206349206349\n",
      "Team: Arsenal, Current Score: 0.6349206349206349\n",
      "Team: Arsenal, Current Score: 0.6349206349206349\n",
      "Team: Arsenal, Current Score: 0.6349206349206349\n",
      "Team: Arsenal, Current Score: 0.6349206349206349\n"
     ]
    },
    {
     "name": "stderr",
     "output_type": "stream",
     "text": []
    },
    {
     "name": "stdout",
     "output_type": "stream",
     "text": [
      "Team: Arsenal, Current Score: 0.6349206349206349\n",
      "No improvement for team Arsenal after 5 attempts. Stopping early.\n",
      "Team: Liverpool, Current Score: 0.6507936507936508\n",
      "Team: Liverpool, Current Score: 0.6507936507936508\n",
      "Team: Liverpool, Current Score: 0.6507936507936508\n",
      "Team: Liverpool, Current Score: 0.6507936507936508\n",
      "Team: Liverpool, Current Score: 0.6825396825396826\n",
      "Team: Liverpool, Current Score: 0.6507936507936508\n",
      "Team: Liverpool, Current Score: 0.6507936507936508\n",
      "Team: Liverpool, Current Score: 0.6507936507936508\n",
      "Team: Liverpool, Current Score: 0.6825396825396826\n",
      "Team: Liverpool, Current Score: 0.6825396825396826\n"
     ]
    },
    {
     "name": "stderr",
     "output_type": "stream",
     "text": []
    },
    {
     "name": "stdout",
     "output_type": "stream",
     "text": [
      "Team: Liverpool, Current Score: 0.6507936507936508\n",
      "No improvement for team Liverpool after 5 attempts. Stopping early.\n",
      "Team: Chelsea, Current Score: 0.5079365079365079\n",
      "Team: Chelsea, Current Score: 0.42857142857142855\n",
      "Team: Chelsea, Current Score: 0.5396825396825397\n",
      "Team: Chelsea, Current Score: 0.5396825396825397\n",
      "Team: Chelsea, Current Score: 0.5396825396825397\n",
      "Team: Chelsea, Current Score: 0.5396825396825397\n",
      "Team: Chelsea, Current Score: 0.5079365079365079\n",
      "Team: Chelsea, Current Score: 0.5238095238095238\n"
     ]
    },
    {
     "name": "stderr",
     "output_type": "stream",
     "text": []
    },
    {
     "name": "stdout",
     "output_type": "stream",
     "text": [
      "Team: Chelsea, Current Score: 0.5238095238095238\n",
      "No improvement for team Chelsea after 5 attempts. Stopping early.\n",
      "Team: West Ham United, Current Score: 0.5079365079365079\n",
      "Team: West Ham United, Current Score: 0.5079365079365079\n",
      "Team: West Ham United, Current Score: 0.47619047619047616\n",
      "Team: West Ham United, Current Score: 0.5238095238095238\n",
      "Team: West Ham United, Current Score: 0.47619047619047616\n",
      "Team: West Ham United, Current Score: 0.4603174603174603\n",
      "Team: West Ham United, Current Score: 0.47619047619047616\n",
      "Team: West Ham United, Current Score: 0.47619047619047616\n",
      "Team: West Ham United, Current Score: 0.47619047619047616\n"
     ]
    },
    {
     "name": "stderr",
     "output_type": "stream",
     "text": []
    },
    {
     "name": "stdout",
     "output_type": "stream",
     "text": [
      "Team: West Ham United, Current Score: 0.47619047619047616\n",
      "No improvement for team West Ham United after 5 attempts. Stopping early.\n",
      "Team: Huddersfield Town, Current Score: 0.8125\n",
      "Team: Huddersfield Town, Current Score: 0.8125\n",
      "Team: Huddersfield Town, Current Score: 0.8125\n",
      "Team: Huddersfield Town, Current Score: 0.8125\n",
      "Team: Huddersfield Town, Current Score: 0.8125\n",
      "Team: Huddersfield Town, Current Score: 0.8125\n"
     ]
    },
    {
     "name": "stderr",
     "output_type": "stream",
     "text": []
    },
    {
     "name": "stdout",
     "output_type": "stream",
     "text": [
      "Team: Huddersfield Town, Current Score: 0.8125\n",
      "No improvement for team Huddersfield Town after 5 attempts. Stopping early.\n",
      "Team: Brighton & Hove Albion, Current Score: 0.4107142857142857\n",
      "Team: Brighton & Hove Albion, Current Score: 0.42857142857142855\n",
      "Team: Brighton & Hove Albion, Current Score: 0.42857142857142855\n",
      "Team: Brighton & Hove Albion, Current Score: 0.39285714285714285\n",
      "Team: Brighton & Hove Albion, Current Score: 0.4107142857142857\n",
      "Team: Brighton & Hove Albion, Current Score: 0.42857142857142855\n",
      "Team: Brighton & Hove Albion, Current Score: 0.4107142857142857\n"
     ]
    },
    {
     "name": "stderr",
     "output_type": "stream",
     "text": []
    },
    {
     "name": "stdout",
     "output_type": "stream",
     "text": [
      "Team: Brighton & Hove Albion, Current Score: 0.42857142857142855\n",
      "No improvement for team Brighton & Hove Albion after 5 attempts. Stopping early.\n",
      "Team: Newcastle United, Current Score: 0.5\n",
      "Team: Newcastle United, Current Score: 0.48214285714285715\n",
      "Team: Newcastle United, Current Score: 0.48214285714285715\n",
      "Team: Newcastle United, Current Score: 0.5357142857142857\n",
      "Team: Newcastle United, Current Score: 0.5357142857142857\n",
      "Team: Newcastle United, Current Score: 0.5178571428571429\n",
      "Team: Newcastle United, Current Score: 0.5178571428571429\n",
      "Team: Newcastle United, Current Score: 0.4642857142857143\n",
      "Team: Newcastle United, Current Score: 0.5357142857142857\n"
     ]
    },
    {
     "name": "stderr",
     "output_type": "stream",
     "text": []
    },
    {
     "name": "stdout",
     "output_type": "stream",
     "text": [
      "Team: Newcastle United, Current Score: 0.5357142857142857\n",
      "No improvement for team Newcastle United after 5 attempts. Stopping early.\n",
      "Team: Cardiff City, Current Score: 0.625\n",
      "Team: Cardiff City, Current Score: 0.625\n",
      "Team: Cardiff City, Current Score: 0.625\n",
      "Team: Cardiff City, Current Score: 0.625\n",
      "Team: Cardiff City, Current Score: 0.625\n",
      "Team: Cardiff City, Current Score: 0.625\n"
     ]
    },
    {
     "name": "stderr",
     "output_type": "stream",
     "text": []
    },
    {
     "name": "stdout",
     "output_type": "stream",
     "text": [
      "Team: Cardiff City, Current Score: 0.625\n",
      "No improvement for team Cardiff City after 5 attempts. Stopping early.\n",
      "Team: Fulham, Current Score: 0.5454545454545454\n",
      "Team: Fulham, Current Score: 0.5151515151515151\n",
      "Team: Fulham, Current Score: 0.5151515151515151\n",
      "Team: Fulham, Current Score: 0.48484848484848486\n",
      "Team: Fulham, Current Score: 0.48484848484848486\n",
      "Team: Fulham, Current Score: 0.48484848484848486\n"
     ]
    },
    {
     "name": "stderr",
     "output_type": "stream",
     "text": []
    },
    {
     "name": "stdout",
     "output_type": "stream",
     "text": [
      "Team: Fulham, Current Score: 0.48484848484848486\n",
      "No improvement for team Fulham after 5 attempts. Stopping early.\n",
      "Team: Wolverhampton, Current Score: 0.6041666666666666\n",
      "Team: Wolverhampton, Current Score: 0.5625\n",
      "Team: Wolverhampton, Current Score: 0.5416666666666666\n",
      "Team: Wolverhampton, Current Score: 0.5208333333333334\n",
      "Team: Wolverhampton, Current Score: 0.5833333333333334\n",
      "Team: Wolverhampton, Current Score: 0.4583333333333333\n"
     ]
    },
    {
     "name": "stderr",
     "output_type": "stream",
     "text": []
    },
    {
     "name": "stdout",
     "output_type": "stream",
     "text": [
      "Team: Wolverhampton, Current Score: 0.4166666666666667\n",
      "No improvement for team Wolverhampton after 5 attempts. Stopping early.\n",
      "Team: Norwich City, Current Score: 0.75\n",
      "Team: Norwich City, Current Score: 0.75\n",
      "Team: Norwich City, Current Score: 0.75\n",
      "Team: Norwich City, Current Score: 0.75\n",
      "Team: Norwich City, Current Score: 0.75\n",
      "Team: Norwich City, Current Score: 0.75\n"
     ]
    },
    {
     "name": "stderr",
     "output_type": "stream",
     "text": []
    },
    {
     "name": "stdout",
     "output_type": "stream",
     "text": [
      "Team: Norwich City, Current Score: 0.75\n",
      "No improvement for team Norwich City after 5 attempts. Stopping early.\n",
      "Team: Sheffield United, Current Score: 0.6956521739130435\n",
      "Team: Sheffield United, Current Score: 0.6956521739130435\n",
      "Team: Sheffield United, Current Score: 0.6956521739130435\n",
      "Team: Sheffield United, Current Score: 0.6956521739130435\n",
      "Team: Sheffield United, Current Score: 0.6956521739130435\n",
      "Team: Sheffield United, Current Score: 0.6956521739130435\n"
     ]
    },
    {
     "name": "stderr",
     "output_type": "stream",
     "text": []
    },
    {
     "name": "stdout",
     "output_type": "stream",
     "text": [
      "Team: Sheffield United, Current Score: 0.6521739130434783\n",
      "No improvement for team Sheffield United after 5 attempts. Stopping early.\n",
      "Team: Aston Villa, Current Score: 0.4878048780487805\n",
      "Team: Aston Villa, Current Score: 0.4878048780487805\n",
      "Team: Aston Villa, Current Score: 0.4634146341463415\n",
      "Team: Aston Villa, Current Score: 0.4878048780487805\n",
      "Team: Aston Villa, Current Score: 0.4878048780487805\n",
      "Team: Aston Villa, Current Score: 0.4634146341463415\n"
     ]
    },
    {
     "name": "stderr",
     "output_type": "stream",
     "text": []
    },
    {
     "name": "stdout",
     "output_type": "stream",
     "text": [
      "Team: Aston Villa, Current Score: 0.4634146341463415\n",
      "No improvement for team Aston Villa after 5 attempts. Stopping early.\n",
      "Team: Leeds United, Current Score: 0.6086956521739131\n",
      "Team: Leeds United, Current Score: 0.6086956521739131\n",
      "Team: Leeds United, Current Score: 0.6086956521739131\n",
      "Team: Leeds United, Current Score: 0.6086956521739131\n",
      "Team: Leeds United, Current Score: 0.6086956521739131\n",
      "Team: Leeds United, Current Score: 0.6086956521739131\n"
     ]
    },
    {
     "name": "stderr",
     "output_type": "stream",
     "text": []
    },
    {
     "name": "stdout",
     "output_type": "stream",
     "text": [
      "Team: Leeds United, Current Score: 0.5217391304347826\n",
      "No improvement for team Leeds United after 5 attempts. Stopping early.\n",
      "Team: Brentford, Current Score: 0.52\n",
      "Team: Brentford, Current Score: 0.52\n",
      "Team: Brentford, Current Score: 0.56\n",
      "Team: Brentford, Current Score: 0.52\n",
      "Team: Brentford, Current Score: 0.48\n",
      "Team: Brentford, Current Score: 0.52\n",
      "Team: Brentford, Current Score: 0.52\n",
      "Team: Brentford, Current Score: 0.48\n",
      "Team: Brentford, Current Score: 0.6\n",
      "Team: Brentford, Current Score: 0.56\n",
      "Team: Brentford, Current Score: 0.52\n",
      "Team: Brentford, Current Score: 0.48\n",
      "Team: Brentford, Current Score: 0.56\n",
      "Team: Brentford, Current Score: 0.52\n"
     ]
    },
    {
     "name": "stderr",
     "output_type": "stream",
     "text": []
    },
    {
     "name": "stdout",
     "output_type": "stream",
     "text": [
      "Team: Brentford, Current Score: 0.52\n",
      "No improvement for team Brentford after 5 attempts. Stopping early.\n",
      "Team: Nottingham Forest, Current Score: 0.3333333333333333\n",
      "Team: Nottingham Forest, Current Score: 0.3333333333333333\n",
      "Team: Nottingham Forest, Current Score: 0.3888888888888889\n",
      "Team: Nottingham Forest, Current Score: 0.3333333333333333\n",
      "Team: Nottingham Forest, Current Score: 0.2777777777777778\n",
      "Team: Nottingham Forest, Current Score: 0.2777777777777778\n",
      "Team: Nottingham Forest, Current Score: 0.3888888888888889\n",
      "Team: Nottingham Forest, Current Score: 0.3333333333333333\n"
     ]
    },
    {
     "name": "stderr",
     "output_type": "stream",
     "text": []
    },
    {
     "name": "stdout",
     "output_type": "stream",
     "text": [
      "Team: Nottingham Forest, Current Score: 0.2222222222222222\n",
      "No improvement for team Nottingham Forest after 5 attempts. Stopping early.\n",
      "Team: Luton Town, Current Score: 0.75\n",
      "Team: Luton Town, Current Score: 0.75\n",
      "Team: Luton Town, Current Score: 0.75\n",
      "Team: Luton Town, Current Score: 0.75\n",
      "Team: Luton Town, Current Score: 0.75\n",
      "Team: Luton Town, Current Score: 0.75\n"
     ]
    },
    {
     "name": "stderr",
     "output_type": "stream",
     "text": []
    },
    {
     "name": "stdout",
     "output_type": "stream",
     "text": [
      "Team: Luton Town, Current Score: 0.75\n",
      "No improvement for team Luton Town after 5 attempts. Stopping early.\n",
      "Team: Ipswich Town, Current Score: 0.6666666666666666\n",
      "Team: Ipswich Town, Current Score: 0.6666666666666666\n",
      "Team: Ipswich Town, Current Score: 0.3333333333333333\n"
     ]
    },
    {
     "name": "stderr",
     "output_type": "stream",
     "text": []
    },
    {
     "name": "stdout",
     "output_type": "stream",
     "text": [
      "Team: Ipswich Town, Current Score: 0.3333333333333333\n",
      "Team: Ipswich Town, Current Score: 0.3333333333333333\n",
      "Team: Ipswich Town, Current Score: 0.3333333333333333\n",
      "Team: Ipswich Town, Current Score: 0.3333333333333333\n",
      "No improvement for team Ipswich Town after 5 attempts. Stopping early.\n"
     ]
    },
    {
     "name": "stderr",
     "output_type": "stream",
     "text": [
      "Global Epochs:  33%|███▎      | 1/3 [04:24<08:48, 264.48s/it]"
     ]
    },
    {
     "name": "stdout",
     "output_type": "stream",
     "text": [
      "Global Score after Global Epoch 1: 0.4025157232704403\n",
      "Starting Global Epoch 2\n"
     ]
    },
    {
     "name": "stderr",
     "output_type": "stream",
     "text": []
    },
    {
     "name": "stdout",
     "output_type": "stream",
     "text": [
      "Team: Hull City, Current Score: 0.5\n",
      "Team: Hull City, Current Score: 0.5\n",
      "Team: Hull City, Current Score: 0.5\n",
      "Team: Hull City, Current Score: 0.5\n",
      "Team: Hull City, Current Score: 0.5\n",
      "Team: Hull City, Current Score: 0.5\n",
      "Team: Hull City, Current Score: 0.625\n",
      "Team: Hull City, Current Score: 0.625\n",
      "Team: Hull City, Current Score: 0.625\n",
      "Team: Hull City, Current Score: 0.625\n",
      "Team: Hull City, Current Score: 0.625\n",
      "Team: Hull City, Current Score: 0.625\n"
     ]
    },
    {
     "name": "stderr",
     "output_type": "stream",
     "text": []
    },
    {
     "name": "stdout",
     "output_type": "stream",
     "text": [
      "Team: Hull City, Current Score: 0.625\n",
      "No improvement for team Hull City after 5 attempts. Stopping early.\n",
      "Team: Leicester City, Current Score: 0.5535714285714286\n",
      "Team: Leicester City, Current Score: 0.5357142857142857\n",
      "Team: Leicester City, Current Score: 0.5178571428571429\n",
      "Team: Leicester City, Current Score: 0.5535714285714286\n",
      "Team: Leicester City, Current Score: 0.5535714285714286\n",
      "Team: Leicester City, Current Score: 0.5178571428571429\n"
     ]
    },
    {
     "name": "stderr",
     "output_type": "stream",
     "text": []
    },
    {
     "name": "stdout",
     "output_type": "stream",
     "text": [
      "Team: Leicester City, Current Score: 0.5357142857142857\n",
      "No improvement for team Leicester City after 5 attempts. Stopping early.\n",
      "Team: Crystal Palace, Current Score: 0.4603174603174603\n",
      "Team: Crystal Palace, Current Score: 0.4603174603174603\n",
      "Team: Crystal Palace, Current Score: 0.4444444444444444\n",
      "Team: Crystal Palace, Current Score: 0.4603174603174603\n",
      "Team: Crystal Palace, Current Score: 0.42857142857142855\n",
      "Team: Crystal Palace, Current Score: 0.4444444444444444\n",
      "Team: Crystal Palace, Current Score: 0.47619047619047616\n",
      "Team: Crystal Palace, Current Score: 0.42857142857142855\n",
      "Team: Crystal Palace, Current Score: 0.4126984126984127\n",
      "Team: Crystal Palace, Current Score: 0.5238095238095238\n",
      "Team: Crystal Palace, Current Score: 0.3968253968253968\n",
      "Team: Crystal Palace, Current Score: 0.47619047619047616\n",
      "Team: Crystal Palace, Current Score: 0.4126984126984127\n",
      "Team: Crystal Palace, Current Score: 0.47619047619047616\n"
     ]
    }
   ],
   "source": [
    "from tqdm import tqdm\n",
    "import torch\n",
    "\n",
    "MAX_GLOBAL_EPOCHS = 3\n",
    "TEAM_PATIENCE = 5  # for example, allow 5 attempts without improvement per team\n",
    "criterion = nn.CrossEntropyLoss()\n",
    "learning_rate = 0.0002\n",
    "teams = unique_teams  # e.g., from new_df['team'].unique()\n",
    "best_global_score = -float('inf')  # optional global metric tracking\n",
    "\n",
    "for global_epoch in tqdm(range(1, MAX_GLOBAL_EPOCHS + 1), desc=\"Global Epochs\", leave=True):\n",
    "    print(f\"Starting Global Epoch {global_epoch}\")\n",
    "\n",
    "    # Iterate through all teams as the main team\n",
    "    for main_team in tqdm(teams, desc=f\"Teams in Global Epoch {global_epoch}\", leave=False):\n",
    "        main_head = team_lstm_heads[main_team]\n",
    "        \n",
    "        # Set up team-level tracking\n",
    "        best_team_score = -float('inf')\n",
    "        patience_counter = 0\n",
    "\n",
    "        optimizer = torch.optim.Adam(\n",
    "        list(main_head.parameters()) + list(model.fc.parameters()),\n",
    "        lr=learning_rate\n",
    "        \n",
    "        )\n",
    "        while True:\n",
    "            # Train the main team for one epoch\n",
    "            train_one_team_epoch(main_team, main_head, team_lstm_heads,\n",
    "            team_train_loaders[main_team], model,\n",
    "            criterion, optimizer, device)\n",
    "\n",
    "            # Evaluate team-level performance after this epoch\n",
    "            current_team_score = evaluate_team_performance(main_team, main_head, team_lstm_heads,team_test_loaders[main_team],model,criterion,device)\n",
    "            print(f\"Team: {main_team}, Current Score: {current_team_score}\")\n",
    "\n",
    "            # Check for improvement\n",
    "            if current_team_score > best_team_score:\n",
    "                best_team_score = current_team_score\n",
    "                patience_counter = 0\n",
    "                # Optionally save this team’s best model state here\n",
    "                torch.save(main_head.state_dict(), f\"./best_models/{main_team}_best.pth\")\n",
    "            else:\n",
    "                patience_counter += 1\n",
    "                if patience_counter > TEAM_PATIENCE:\n",
    "                    print(f\"No improvement for team {main_team} after {TEAM_PATIENCE} attempts. Stopping early.\")\n",
    "                    break  # Move on to the next team\n",
    "\n",
    "        # After finishing training for the main_team for this global epoch, you can optionally\n",
    "        # reset hidden states or perform other cleanup.\n",
    "        main_head.reset_hidden_state()\n",
    "\n",
    "    # (Optional) Evaluate a global metric after finishing all teams\n",
    "    # For example, evaluate performance across all teams or on a global validation set\n",
    "    global_score = evaluate_global_performance(team_lstm_heads,team_test_loaders,model,criterion,device)\n",
    "    print(f\"Global Score after Global Epoch {global_epoch}: {global_score}\")\n",
    "\n",
    "    # If you had a global patience metric, you’d apply it here.\n",
    "    # In this scenario, we are fixed at 3 global epochs, so we just run all 3.\n",
    "    # If you wanted early stopping globally, you might track improvement here similarly to team-level patience.\n"
   ]
  },
  {
   "cell_type": "code",
   "execution_count": 849,
   "metadata": {},
   "outputs": [
    {
     "ename": "NameError",
     "evalue": "name 'Southampt' is not defined",
     "output_type": "error",
     "traceback": [
      "\u001b[1;31m---------------------------------------------------------------------------\u001b[0m",
      "\u001b[1;31mNameError\u001b[0m                                 Traceback (most recent call last)",
      "Cell \u001b[1;32mIn[849], line 1\u001b[0m\n\u001b[1;32m----> 1\u001b[0m \u001b[38;5;28mprint\u001b[39m(\u001b[38;5;124mf\u001b[39m\u001b[38;5;124m\"\u001b[39m\u001b[38;5;124mLooking for opponent team: \u001b[39m\u001b[38;5;132;01m{\u001b[39;00m\u001b[43mSouthampt\u001b[49m\u001b[38;5;132;01m}\u001b[39;00m\u001b[38;5;124m\"\u001b[39m)\n\u001b[0;32m      2\u001b[0m \u001b[38;5;28mprint\u001b[39m(\u001b[38;5;124mf\u001b[39m\u001b[38;5;124m\"\u001b[39m\u001b[38;5;124mAvailable teams: \u001b[39m\u001b[38;5;132;01m{\u001b[39;00m\u001b[38;5;28mlist\u001b[39m(team_lstm_heads\u001b[38;5;241m.\u001b[39mkeys())\u001b[38;5;132;01m}\u001b[39;00m\u001b[38;5;124m\"\u001b[39m)\n",
      "\u001b[1;31mNameError\u001b[0m: name 'Southampt' is not defined"
     ]
    }
   ],
   "source": [
    "print(f\"Looking for opponent team: {Southampt}\")\n",
    "print(f\"Available teams: {list(team_lstm_heads.keys())}\")\n"
   ]
  },
  {
   "cell_type": "code",
   "execution_count": 825,
   "metadata": {},
   "outputs": [
    {
     "data": {
      "text/plain": [
       "['Hull City',\n",
       " 'Leicester City',\n",
       " 'Crystal Palace',\n",
       " 'West Bromwich Albion',\n",
       " 'Burnley',\n",
       " 'Swansea City',\n",
       " 'Middlesbrough',\n",
       " 'Stoke City',\n",
       " 'Southampton',\n",
       " 'Watford',\n",
       " 'Everton',\n",
       " 'Tottenham Hotspur',\n",
       " 'Manchester City',\n",
       " 'Sunderland',\n",
       " 'Bournemouth',\n",
       " 'Manchester United',\n",
       " 'Arsenal',\n",
       " 'Liverpool',\n",
       " 'Chelsea',\n",
       " 'West Ham United',\n",
       " 'Huddersfield Town',\n",
       " 'Brighton & Hove Albion',\n",
       " 'Newcastle United',\n",
       " 'Cardiff City',\n",
       " 'Fulham',\n",
       " 'Wolverhampton',\n",
       " 'Norwich City',\n",
       " 'Sheffield United',\n",
       " 'Aston Villa',\n",
       " 'Leeds United',\n",
       " 'Brentford',\n",
       " 'Nottingham Forest',\n",
       " 'Luton Town',\n",
       " 'Ipswich Town']"
      ]
     },
     "execution_count": 825,
     "metadata": {},
     "output_type": "execute_result"
    }
   ],
   "source": [
    "list(team_lstm_heads)"
   ]
  },
  {
   "cell_type": "code",
   "execution_count": null,
   "metadata": {},
   "outputs": [],
   "source": []
  }
 ],
 "metadata": {
  "kernelspec": {
   "display_name": "Python 3",
   "language": "python",
   "name": "python3"
  },
  "language_info": {
   "codemirror_mode": {
    "name": "ipython",
    "version": 3
   },
   "file_extension": ".py",
   "mimetype": "text/x-python",
   "name": "python",
   "nbconvert_exporter": "python",
   "pygments_lexer": "ipython3",
   "version": "3.11.1"
  }
 },
 "nbformat": 4,
 "nbformat_minor": 2
}
