{
 "cells": [
  {
   "cell_type": "code",
   "execution_count": 1466,
   "metadata": {},
   "outputs": [],
   "source": [
    "import pandas as pd\n",
    "import torch\n",
    "import torch.nn as nn\n",
    "import numpy as np\n",
    "import os\n",
    "from glicko2 import Player\n",
    "\n",
    "from helpers import davidson_mov\n",
    "import matplotlib.pyplot as plt\n",
    "import numpy as np\n",
    "from sklearn.metrics import f1_score, precision_score, recall_score\n",
    "import torch.nn as nn\n",
    "import torch.optim as optim\n",
    "from torch.optim.lr_scheduler import StepLR\n",
    "from torch.utils.data import DataLoader\n",
    "from torch.utils.data import Dataset, DataLoader\n",
    "import torch.nn as nn\n",
    "from sklearn.model_selection import train_test_split\n",
    "from tensorflow.keras.layers import Input, LSTM, Dense, Concatenate\n",
    "from tensorflow.keras.models import Model\n"
   ]
  },
  {
   "cell_type": "code",
   "execution_count": 1467,
   "metadata": {},
   "outputs": [],
   "source": [
    "device = torch.device('cuda' if torch.cuda.is_available() else 'cpu')"
   ]
  },
  {
   "cell_type": "code",
   "execution_count": 1468,
   "metadata": {},
   "outputs": [],
   "source": [
    "df_raw = pd.read_csv('EPL_RAW.csv')"
   ]
  },
  {
   "cell_type": "code",
   "execution_count": 1469,
   "metadata": {},
   "outputs": [],
   "source": [
    "def process_attempted_and_total(column):\n",
    "    \"\"\"\n",
    "    Processes a column in the format 'xx/yy (zz%)' to extract 'attempted' and 'total'.\n",
    "    Args:\n",
    "        column (str): The column name to process.\n",
    "    \"\"\"\n",
    "    # Fill NaN with '0/0 (0%)' to ensure consistent processing\n",
    "    df_raw[column] = df_raw[column].fillna('0/0 (0%)')\n",
    "    \n",
    "    # Extract 'attempted' and 'total' using a regular expression\n",
    "    df_raw[[f'{column}Attempted', f'{column}Total']] = df_raw[column].str.extract(r'(\\d+)/(\\d+)').astype(int)\n",
    "\n",
    "    # Drop the original column (optional)\n",
    "    df_raw.drop(columns=[column], inplace=True)\n",
    "\n",
    "# List of columns to process\n",
    "columns_to_process = ['homeaccurateLongBalls', 'awayaccurateLongBalls', 'homeaccurateCross', 'awayaccurateCross']\n",
    "\n",
    "# Apply the function to each column\n",
    "for col in columns_to_process:\n",
    "    process_attempted_and_total(col)\n"
   ]
  },
  {
   "cell_type": "code",
   "execution_count": 1470,
   "metadata": {},
   "outputs": [],
   "source": [
    "df_raw.rename(columns={'homeaccurateCrossAttempted': 'homeaccurateCross'}, inplace=True)\n",
    "df_raw.rename(columns={'homeaccurateCrossTotal': 'hometotalCross'}, inplace=True)\n",
    "df_raw.rename(columns={'awayaccurateCrossAttempted': 'awayaccurateCross'}, inplace=True)\n",
    "df_raw.rename(columns={'awayaccurateCrossTotal': 'awaytotalCross'}, inplace=True)\n"
   ]
  },
  {
   "cell_type": "code",
   "execution_count": 1471,
   "metadata": {},
   "outputs": [
    {
     "name": "stdout",
     "output_type": "stream",
     "text": [
      "Index(['eventId', 'homeId', 'homeTeam', 'awayId', 'awayTeam', 'homeScore',\n",
      "       'awayScore', 'FTR', 'date', 'time',\n",
      "       ...\n",
      "       'awaypunches', 'datetime', 'homeaccurateLongBallsAttempted',\n",
      "       'homeaccurateLongBallsTotal', 'awayaccurateLongBallsAttempted',\n",
      "       'awayaccurateLongBallsTotal', 'homeaccurateCross', 'hometotalCross',\n",
      "       'awayaccurateCross', 'awaytotalCross'],\n",
      "      dtype='object', length=107)\n"
     ]
    }
   ],
   "source": [
    "# List of columns to rename\n",
    "columns_to_rename = ['homegroundDuelsPercentage', 'awaygroundDuelsPercentage','homeaerialDuelsPercentage','awayaerialDuelsPercentage']\n",
    "# Rename columns by removing \"Percentage\"\n",
    "df_raw.rename(columns={col: col.replace('Percentage', '') for col in columns_to_rename}, inplace=True)\n",
    "# Verify the changes\n",
    "print(df_raw.columns)\n"
   ]
  },
  {
   "cell_type": "code",
   "execution_count": 1472,
   "metadata": {},
   "outputs": [],
   "source": [
    "import pandas as pd\n",
    "\n",
    "# Assuming your DataFrame is called df\n",
    "\n",
    "# Function to split the data and extract relevant parts\n",
    "def process_duels_column(column):\n",
    "    # Remove everything in parentheses, then split by '/'\n",
    "    df_raw[[f'{column}Won', f'{column}Total']] = df_raw[column].str.extract(r'(\\d+)/(\\d+)').astype(int)\n",
    "\n",
    "# Process the home and away columns\n",
    "process_duels_column('homegroundDuels')\n",
    "process_duels_column('awaygroundDuels')\n",
    "process_duels_column('homeaerialDuels')\n",
    "process_duels_column('awayaerialDuels')\n",
    "\n",
    "# Drop the original columns if no longer needed\n",
    "df_raw.drop(columns=['homegroundDuels', 'awaygroundDuels','homeaerialDuels','awayaerialDuels'], inplace=True)\n",
    "\n",
    "# Verify the changes\n"
   ]
  },
  {
   "cell_type": "code",
   "execution_count": 1473,
   "metadata": {},
   "outputs": [],
   "source": [
    "df_raw['homewonTacklePercent'].fillna('0%',inplace=True)\n",
    "df_raw['awaywonTacklePercent'].fillna('0%',inplace=True)"
   ]
  },
  {
   "cell_type": "code",
   "execution_count": 1474,
   "metadata": {},
   "outputs": [],
   "source": [
    "df_raw['homeballPossession'] = df_raw['homeballPossession'].str.rstrip('%').astype(int)\n",
    "df_raw['awayballPossession'] = df_raw['awayballPossession'].str.rstrip('%').astype(int)\n",
    "df_raw['homewonTacklePercent'] = df_raw['homewonTacklePercent'].str.rstrip('%').astype(int)\n",
    "df_raw['awaywonTacklePercent'] = df_raw['awaywonTacklePercent'].str.rstrip('%').astype(int)"
   ]
  },
  {
   "cell_type": "code",
   "execution_count": 1475,
   "metadata": {},
   "outputs": [],
   "source": [
    "df_raw['homeShootingEfficiency'] = df_raw['homeshotsOnGoal'] / ( df_raw['homeshotsOffGoal'] + df_raw['homeshotsOnGoal'] )\n",
    "df_raw['awayShootingEfficiency'] = df_raw['awayshotsOnGoal'] / ( df_raw['awayshotsOffGoal'] + df_raw['homeshotsOnGoal'])\n",
    "# Replace infinities with 0\n",
    "df_raw['homeShootingEfficiency'].replace([np.inf, -np.inf], 0, inplace=True)\n",
    "df_raw['awayShootingEfficiency'].replace([np.inf, -np.inf], 0, inplace=True)\n",
    "\n",
    "df_raw['homeShootingEfficiency'].fillna(0,inplace=True)\n",
    "df_raw['awayShootingEfficiency'].fillna(0,inplace=True)"
   ]
  },
  {
   "cell_type": "code",
   "execution_count": 1476,
   "metadata": {},
   "outputs": [
    {
     "name": "stdout",
     "output_type": "stream",
     "text": [
      "Number of 0s in homebigChanceCreated: 949\n",
      "Number of 0s in awaybigChanceCreated: 1150\n"
     ]
    }
   ],
   "source": [
    "# Count the number of 0s in homebigChanceCreated\n",
    "home_zeros = (df_raw['homebigChanceCreated'] == 0).sum()\n",
    "\n",
    "# Count the number of 0s in awaybigChanceCreated\n",
    "away_zeros = (df_raw['awaybigChanceCreated'] == 0).sum()\n",
    "\n",
    "print(f\"Number of 0s in homebigChanceCreated: {home_zeros}\")\n",
    "print(f\"Number of 0s in awaybigChanceCreated: {away_zeros}\")\n"
   ]
  },
  {
   "cell_type": "code",
   "execution_count": 1477,
   "metadata": {},
   "outputs": [],
   "source": [
    "df_raw['homebigChanceScored'].fillna(df_raw['homeScore'], inplace=True)\n",
    "df_raw['awaybigChanceScored'].fillna(df_raw['awayScore'], inplace=True)\n",
    "df_raw['homebigChanceCreated'].fillna(df_raw['homeScore'], inplace=True)\n",
    "df_raw['awaybigChanceCreated'].fillna(df_raw['awayScore'], inplace=True)\n",
    "\n",
    "# Update homebigChanceCreated to be at least homebigChanceScored\n",
    "df_raw['homebigChanceCreated'] = df_raw.apply(\n",
    "    lambda row: max(row['homebigChanceCreated'], row['homebigChanceScored']), axis=1\n",
    ")\n",
    "\n",
    "df_raw['awaybigChanceCreated'] = df_raw.apply(\n",
    "    lambda row: max(row['awaybigChanceCreated'], row['awaybigChanceScored']), axis=1\n",
    ")\n",
    "\n",
    "# Ensure homebigChanceCreated and homebigChanceScored are at least equal to homeScore\n",
    "df_raw['homebigChanceCreated'] = df_raw.apply(\n",
    "    lambda row: max(row['homebigChanceCreated'], row['homeScore']), axis=1\n",
    ")\n",
    "df_raw['homebigChanceScored'] = df_raw.apply(\n",
    "    lambda row: max(row['homebigChanceScored'], row['homeScore']), axis=1\n",
    ")\n",
    "\n",
    "df_raw['awaybigChanceCreated'] = df_raw.apply(\n",
    "    lambda row: max(row['awaybigChanceCreated'], row['awayScore']), axis=1\n",
    ")\n",
    "df_raw['awaybigChanceScored'] = df_raw.apply(\n",
    "    lambda row: max(row['awaybigChanceScored'], row['awayScore']), axis=1\n",
    ")\n",
    "\n",
    "# If homebigChanceCreated is not 0, add its value to homeScore and update homebigChanceCreated\n",
    "df_raw['homebigChanceCreated'] = df_raw.apply(\n",
    "    lambda row: row['homebigChanceCreated'] + row['homeScore'] if row['homebigChanceCreated'] != 0 else row['homebigChanceCreated'],\n",
    "    axis=1\n",
    ")\n",
    "\n",
    "df_raw['awaybigChanceCreated'] = df_raw.apply(\n",
    "    lambda row: row['awaybigChanceCreated'] + row['awayScore'] if row['awaybigChanceCreated'] != 0 else row['awaybigChanceCreated'],\n",
    "    axis=1\n",
    ")\n"
   ]
  },
  {
   "cell_type": "code",
   "execution_count": 1478,
   "metadata": {},
   "outputs": [],
   "source": [
    "df_raw['homebigChanceConversionRate'] = df_raw.apply(\n",
    "    lambda row: 0 if row['homebigChanceCreated'] == 0 \n",
    "    else row['homebigChanceScored'] / row['homebigChanceCreated'],\n",
    "    axis=1\n",
    ")\n",
    "\n",
    "df_raw['awaybigChanceConversionRate'] = df_raw.apply(\n",
    "    lambda row: 0 if row['awaybigChanceCreated'] == 0 \n",
    "    else row['awaybigChanceScored'] / row['awaybigChanceCreated'],\n",
    "    axis=1\n",
    ")\n"
   ]
  },
  {
   "cell_type": "code",
   "execution_count": 1479,
   "metadata": {},
   "outputs": [
    {
     "data": {
      "text/plain": [
       "0"
      ]
     },
     "execution_count": 1479,
     "metadata": {},
     "output_type": "execute_result"
    }
   ],
   "source": [
    "df_raw['homebigChanceConversionRate'].isnull().sum()"
   ]
  },
  {
   "cell_type": "code",
   "execution_count": 1480,
   "metadata": {},
   "outputs": [],
   "source": [
    "df_raw['awaygoalkeeperSaves'].fillna(0, inplace=True)\n",
    "df_raw['homegoalkeeperSaves'].fillna(0,inplace=True)"
   ]
  },
  {
   "cell_type": "code",
   "execution_count": 1481,
   "metadata": {},
   "outputs": [],
   "source": [
    "df_raw['homeSavePercentage'] = df_raw['homegoalkeeperSaves'] / (df_raw['awayshotsOnGoal'])\n",
    "df_raw['awaySavePercentage'] = df_raw['awaygoalkeeperSaves'] / (df_raw['homeshotsOnGoal'])"
   ]
  },
  {
   "cell_type": "code",
   "execution_count": 1482,
   "metadata": {},
   "outputs": [],
   "source": [
    "# Replace infinities with 1\n",
    "df_raw['homeSavePercentage'].replace([float('inf'), float('-inf')], 1, inplace=True)\n",
    "df_raw['awaySavePercentage'].replace([float('inf'), float('-inf')], 1, inplace=True)\n",
    "\n",
    "# Optionally, handle NaN values if they exist\n",
    "df_raw['homeSavePercentage'].fillna(0, inplace=True)\n",
    "df_raw['awaySavePercentage'].fillna(0, inplace=True)\n"
   ]
  },
  {
   "cell_type": "code",
   "execution_count": 1483,
   "metadata": {},
   "outputs": [],
   "source": [
    "df_raw['homepassAccuracy'] = df_raw['homeaccuratePasses'] / df_raw['homepasses']\n",
    "df_raw['awaypassAccuracy'] = df_raw['awayaccuratePasses'] / df_raw['awaypasses']\n",
    "df_raw['homeCrossAccuracy'] = df_raw['homeaccurateCross']/df_raw['hometotalCross']\n",
    "df_raw['awayCrossAccuracy'] = df_raw['awayaccurateCross']/df_raw['awaytotalCross']\n",
    "\n",
    "df_raw['homeCrossAccuracy'].fillna(0, inplace=True)\n",
    "df_raw['homeCrossAccuracy'].isnull().sum()\n",
    "\n",
    "df_raw['awayCrossAccuracy'].fillna(0, inplace=True)\n",
    "df_raw['awayCrossAccuracy'].isnull().sum()\n",
    "\n",
    "df_raw['homePassPower'] = df_raw['homepassAccuracy'] + df_raw['homeCrossAccuracy']\n",
    "df_raw['awayPassPower'] = df_raw['awaypassAccuracy'] + df_raw['awayCrossAccuracy']"
   ]
  },
  {
   "cell_type": "code",
   "execution_count": 1484,
   "metadata": {},
   "outputs": [],
   "source": [
    "df_raw['homeBoxPresence'] = df_raw['hometotalShotsInsideBox']/ (df_raw['hometotalShotsInsideBox'] + df_raw['hometotalShotsOutsideBox'])\n",
    "df_raw['awayBoxPresence'] = df_raw['awaytotalShotsInsideBox']/ (df_raw['awaytotalShotsInsideBox'] + df_raw['awaytotalShotsOutsideBox'])"
   ]
  },
  {
   "cell_type": "code",
   "execution_count": 1485,
   "metadata": {},
   "outputs": [
    {
     "data": {
      "text/plain": [
       "0"
      ]
     },
     "execution_count": 1485,
     "metadata": {},
     "output_type": "execute_result"
    }
   ],
   "source": [
    "df_raw['homeBoxPresence'].fillna(0, inplace=True)\n",
    "df_raw['awayBoxPresence'].fillna(0, inplace=True)\n",
    "\n",
    "df_raw['homeBoxPresence'].isnull().sum()\n",
    "df_raw['awayBoxPresence'].isnull().sum()"
   ]
  },
  {
   "cell_type": "code",
   "execution_count": 1486,
   "metadata": {},
   "outputs": [],
   "source": [
    "df_raw['homegroundDuelPercent'] = (df_raw['homegroundDuelsWon']/df_raw['homegroundDuelsTotal'])\n",
    "df_raw['homeaerialDuelPercent'] = (df_raw['homeaerialDuelsWon']/df_raw['homeaerialDuelsTotal'])\n",
    "df_raw['awaygroundDuelPercent'] = (df_raw['awaygroundDuelsWon']/df_raw['awaygroundDuelsTotal'])\n",
    "df_raw['awayaerialDuelPercent'] = (df_raw['homeaerialDuelsWon']/df_raw['awayaerialDuelsTotal'])\n",
    "\n",
    "\n",
    "df_raw['homeDuelPower'] = (df_raw['homegroundDuelPercent'] + df_raw['homeaerialDuelPercent'])\n",
    "df_raw['awayDuelPower'] = (df_raw['awaygroundDuelPercent'] + df_raw['awayaerialDuelPercent'])"
   ]
  },
  {
   "cell_type": "code",
   "execution_count": 1743,
   "metadata": {},
   "outputs": [
    {
     "data": {
      "image/png": "[encoded data removed]",
      "text/plain": [
       "<Figure size 1000x600 with 1 Axes>"
      ]
     },
     "metadata": {},
     "output_type": "display_data"
    }
   ],
   "source": [
    "# Assuming df_raw is loaded with 'awayDuelPower' and 'homeDuelPower' columns\n",
    "plt.figure(figsize=(10, 6))\n",
    "\n",
    "# Plot histograms for both awayDuelPower and homeDuelPower\n",
    "plt.hist(\n",
    "    df_raw['log_awayDiscipline'].dropna(),\n",
    "    bins=30,\n",
    "    alpha=0.7,\n",
    "    label='Away Pass Power',\n",
    "    edgecolor='k',\n",
    ")\n",
    "plt.hist(\n",
    "    df_raw['log_homeDiscipline'].dropna(),\n",
    "    bins=30,\n",
    "    alpha=0.7,\n",
    "    label='Home Pass Power',\n",
    "    edgecolor='k',\n",
    ")\n",
    "\n",
    "# Add titles and labels\n",
    "plt.title('Distribution of Duel Power (Home vs Away)', fontsize=16)\n",
    "plt.xlabel('Duel Power', fontsize=14)\n",
    "plt.ylabel('Frequency', fontsize=14)\n",
    "plt.legend(fontsize=12)\n",
    "plt.grid(axis='y', linestyle='--', alpha=0.7)\n",
    "plt.show()\n"
   ]
  },
  {
   "cell_type": "code",
   "execution_count": 1488,
   "metadata": {},
   "outputs": [],
   "source": [
    "df_raw['homePossessionEfficiency'] = df_raw['homeballPossession']/100 * df_raw['homepassAccuracy']\n",
    "df_raw['awayPossessionEfficiency'] = df_raw['awayballPossession']/100 * df_raw['awaypassAccuracy']"
   ]
  },
  {
   "cell_type": "code",
   "execution_count": 1489,
   "metadata": {},
   "outputs": [],
   "source": [
    "df_raw['awayfinalThirdEntries'].fillna(df_raw['awayfinalThirdEntries'].median(),inplace=True)\n",
    "df_raw['homefinalThirdEntries'].fillna(df_raw['homefinalThirdEntries'].median(),inplace=True)\n",
    "\n",
    "df_raw['homefinalThirdEfficiency'] = df_raw['homefinalThirdEntries'] / df_raw['homepasses']\n",
    "df_raw['awayfinalThirdEfficiency'] = df_raw['awayfinalThirdEntries'] / df_raw['awaypasses']"
   ]
  },
  {
   "cell_type": "code",
   "execution_count": null,
   "metadata": {},
   "outputs": [],
   "source": [
    "df_raw['homeFoulThreatIndex'] = df_raw['awayfouls'] / df_raw['homefinalThirdEntries']  \n",
    "df_raw['awayFoulThreatIndex'] = df_raw['homefouls'] / df_raw['awayfinalThirdEntries'] "
   ]
  },
  {
   "cell_type": "code",
   "execution_count": 1491,
   "metadata": {},
   "outputs": [],
   "source": [
    "epsilon = 1\n",
    "\n",
    "df_raw['homeShootingEfficiency'] = df_raw['homeShootingEfficiency'].replace(0, epsilon)\n",
    "df_raw['homebigChanceConversionRate'] = df_raw['homebigChanceConversionRate'].replace(0, epsilon)\n",
    "df_raw['homeshotsOnGoal'] = df_raw['homeshotsOnGoal'].replace(0, epsilon)\n",
    "\n",
    "df_raw['awayShootingEfficiency'] = df_raw['awayShootingEfficiency'].replace(0, epsilon)\n",
    "df_raw['awaybigChanceConversionRate'] = df_raw['awaybigChanceConversionRate'].replace(0, epsilon)\n",
    "df_raw['awayshotsOnGoal'] = df_raw['awayshotsOnGoal'].replace(0, epsilon)\n"
   ]
  },
  {
   "cell_type": "code",
   "execution_count": 1492,
   "metadata": {},
   "outputs": [],
   "source": [
    "import numpy as np\n",
    "\n",
    "df_raw['log_homeShootingEfficiency'] = np.log(df_raw['homeShootingEfficiency'])\n",
    "df_raw['log_homebigChanceConversionRate'] = np.log(df_raw['homebigChanceConversionRate'])\n",
    "df_raw['log_homeshotsOnGoal'] = np.log(df_raw['homeshotsOnGoal'])\n",
    "\n",
    "df_raw['log_awayShootingEfficiency'] = np.log(df_raw['awayShootingEfficiency'])\n",
    "df_raw['log_awaybigChanceConversionRate'] = np.log(df_raw['awaybigChanceConversionRate'])\n",
    "df_raw['log_awayshotsOnGoal'] = np.log(df_raw['awayshotsOnGoal'])\n"
   ]
  },
  {
   "cell_type": "code",
   "execution_count": 1493,
   "metadata": {},
   "outputs": [],
   "source": [
    "df_raw['homeXGc'] = (\n",
    "    df_raw['log_homeShootingEfficiency'] +\n",
    "    df_raw['log_homebigChanceConversionRate'] +\n",
    "    df_raw['log_homeshotsOnGoal']\n",
    ")\n",
    "\n",
    "df_raw['awayXGc'] = (\n",
    "    df_raw['log_awayShootingEfficiency'] +\n",
    "    df_raw['log_awaybigChanceConversionRate'] +\n",
    "    df_raw['log_awayshotsOnGoal']\n",
    ")\n"
   ]
  },
  {
   "cell_type": "code",
   "execution_count": 1495,
   "metadata": {},
   "outputs": [],
   "source": [
    "df_raw['homeATI'] = (df_raw['homebigChanceCreated'] + df_raw['hometotalShotsInsideBox']) * df_raw['homepassAccuracy']\n",
    "df_raw['awayATI'] = (df_raw['awaybigChanceCreated'] + df_raw['awaytotalShotsInsideBox']) * df_raw['awaypassAccuracy']"
   ]
  },
  {
   "cell_type": "code",
   "execution_count": null,
   "metadata": {},
   "outputs": [
    {
     "name": "stdout",
     "output_type": "stream",
     "text": [
      "Null values after filling:\n",
      "awaytotalTackle: 0\n",
      "awaytotalClearance: 0\n",
      "awayinterceptionWon: 0\n"
     ]
    }
   ],
   "source": [
    "median_value = df_raw['hometotalTackle'].median()\n",
    "df_raw['hometotalTackle'].fillna(median_value,inplace=True)\n",
    "\n",
    "median_value = df_raw['hometotalClearance'].median()\n",
    "df_raw['hometotalClearance'].fillna(median_value,inplace=True)\n",
    "\n",
    "median_value = df_raw['homeinterceptionWon'].median()\n",
    "df_raw['homeinterceptionWon'].fillna(median_value,inplace=True)\n",
    "\n",
    "# Fill nulls in away columns with their respective medians\n",
    "median_value = df_raw['awaytotalTackle'].median()\n",
    "df_raw['awaytotalTackle'].fillna(median_value, inplace=True)\n",
    "\n",
    "median_value = df_raw['awaytotalClearance'].median()\n",
    "df_raw['awaytotalClearance'].fillna(median_value, inplace=True)\n",
    "\n",
    "median_value = df_raw['awayinterceptionWon'].median()\n",
    "df_raw['awayinterceptionWon'].fillna(median_value, inplace=True)\n",
    "\n"
   ]
  },
  {
   "cell_type": "code",
   "execution_count": 1640,
   "metadata": {},
   "outputs": [],
   "source": [
    "df_raw['homeTerritorialDominance'] = df_raw['homePossessionEfficiency'] * df_raw['homefinalThirdEfficiency']\n",
    "df_raw['awayTerritorialDominance'] = df_raw['awayPossessionEfficiency'] * df_raw['awayfinalThirdEfficiency']"
   ]
  },
  {
   "cell_type": "code",
   "execution_count": 1641,
   "metadata": {},
   "outputs": [],
   "source": [
    "df_raw['homePassingDisruption'] = (df_raw['hometotalTackle'] + df_raw['homeinterceptionWon']) / df_raw['awaypasses']\n",
    "df_raw['awayPassingDisruption'] = (df_raw['awaytotalTackle'] + df_raw['awayinterceptionWon']) / df_raw['homepasses']"
   ]
  },
  {
   "cell_type": "code",
   "execution_count": 1642,
   "metadata": {},
   "outputs": [],
   "source": [
    "df_raw['homeTransitionEfficiency'] = df_raw['hometotalShotsInsideBox'] / df_raw['homefinalThirdEntries']\n",
    "df_raw['awayTransitionEfficiency'] = df_raw['awaytotalShotsInsideBox'] / df_raw['awayfinalThirdEntries']"
   ]
  },
  {
   "cell_type": "code",
   "execution_count": 1645,
   "metadata": {},
   "outputs": [
    {
     "data": {
      "text/plain": [
       "4.969768223043332"
      ]
     },
     "execution_count": 1645,
     "metadata": {},
     "output_type": "execute_result"
    }
   ],
   "source": [
    "df_raw['awaydispossessed'].mean()"
   ]
  },
  {
   "cell_type": "code",
   "execution_count": 1648,
   "metadata": {},
   "outputs": [],
   "source": [
    "df_raw['homewonTackle'] = df_raw['homewonTacklePercent']/100 * df_raw['hometotalTackle']\n",
    "df_raw['awaywonTackle'] = df_raw['awaywonTacklePercent']/100 * df_raw['awaytotalTackle']\n",
    "df_raw['homewonTackle'] = df_raw['homewonTackle'].round()\n",
    "df_raw['awaywonTackle'] = df_raw['awaywonTackle'].round()"
   ]
  },
  {
   "cell_type": "code",
   "execution_count": 1649,
   "metadata": {},
   "outputs": [
    {
     "data": {
      "text/plain": [
       "7.0"
      ]
     },
     "execution_count": 1649,
     "metadata": {},
     "output_type": "execute_result"
    }
   ],
   "source": [
    "df_raw['hometotalShotsOnGoal'].median()"
   ]
  },
  {
   "cell_type": "code",
   "execution_count": 1707,
   "metadata": {},
   "outputs": [],
   "source": [
    "import numpy as np\n",
    "\n",
    "# Home Pressure Index\n",
    "df_raw['homePressureIndex'] = np.where(\n",
    "    df_raw['awaytotalShotsOnGoal'] == 0,\n",
    "    ((df_raw['homeblockedScoringAttempt'] + df_raw['homeinterceptionWon'] + df_raw['hometotalClearance']) / 1) * 1.2,\n",
    "    (df_raw['homeblockedScoringAttempt'] + df_raw['homeinterceptionWon'] + df_raw['hometotalClearance']) / df_raw['awaytotalShotsOnGoal']\n",
    ")\n",
    "\n",
    "# Away Pressure Index\n",
    "df_raw['awayPressureIndex'] = np.where(\n",
    "    df_raw['hometotalShotsOnGoal'] == 0,\n",
    "    ((df_raw['awayblockedScoringAttempt'] + df_raw['awayinterceptionWon'] + df_raw['awaytotalClearance']) / 1) * 1.2,\n",
    "    (df_raw['awayblockedScoringAttempt'] + df_raw['awayinterceptionWon'] + df_raw['awaytotalClearance']) / df_raw['hometotalShotsOnGoal']\n",
    ")\n",
    "\n",
    "# Apply natural log to the pressure indexes\n",
    "df_raw['homePressureIndex'] = np.log(df_raw['homePressureIndex'] + epsilon)\n",
    "df_raw['awayPressureIndex'] = np.log(df_raw['awayPressureIndex'] + epsilon)\n"
   ]
  },
  {
   "cell_type": "code",
   "execution_count": 1708,
   "metadata": {},
   "outputs": [
    {
     "name": "stdout",
     "output_type": "stream",
     "text": [
      "Number of 0s in homebigChanceCreated: 438\n"
     ]
    }
   ],
   "source": [
    "# Count the number of 0s in homebigChanceCreated\n",
    "home_zeros = (df_raw['homebigChanceCreated'] == 0).sum()\n",
    "\n",
    "print(f\"Number of 0s in homebigChanceCreated: {home_zeros}\")\n"
   ]
  },
  {
   "cell_type": "code",
   "execution_count": 1709,
   "metadata": {},
   "outputs": [],
   "source": [
    "import numpy as np\n",
    "\n",
    "# Home xDS\n",
    "df_raw['homexDS'] = np.where(\n",
    "    df_raw['awaybigChanceCreated'] == 0,\n",
    "    (df_raw['homePressureIndex'] / 1) * 1.5,\n",
    "    df_raw['homePressureIndex'] / df_raw['awaybigChanceCreated']\n",
    ")\n",
    "\n",
    "# Away xDS\n",
    "df_raw['awayxDS'] = np.where(\n",
    "    df_raw['homebigChanceCreated'] == 0,\n",
    "    (df_raw['awayPressureIndex'] / 1) * 1.5,\n",
    "    df_raw['awayPressureIndex'] / df_raw['homebigChanceCreated']\n",
    ")\n"
   ]
  },
  {
   "cell_type": "code",
   "execution_count": 1716,
   "metadata": {},
   "outputs": [
    {
     "data": {
      "text/plain": [
       "0.7577512637531523"
      ]
     },
     "execution_count": 1716,
     "metadata": {},
     "output_type": "execute_result"
    }
   ],
   "source": [
    "df_raw['awayxDS'].mean()"
   ]
  },
  {
   "cell_type": "code",
   "execution_count": 1717,
   "metadata": {},
   "outputs": [
    {
     "data": {
      "text/plain": [
       "-0.475650590873872"
      ]
     },
     "execution_count": 1717,
     "metadata": {},
     "output_type": "execute_result"
    }
   ],
   "source": [
    "df_raw['awayXGc'].mean()"
   ]
  },
  {
   "cell_type": "code",
   "execution_count": 1723,
   "metadata": {},
   "outputs": [
    {
     "data": {
      "text/plain": [
       "0"
      ]
     },
     "execution_count": 1723,
     "metadata": {},
     "output_type": "execute_result"
    }
   ],
   "source": [
    "df_raw['homefouls'].isnull().sum()"
   ]
  },
  {
   "cell_type": "code",
   "execution_count": 1736,
   "metadata": {},
   "outputs": [],
   "source": [
    "df_raw['homeDiscipline'] = 1/(df_raw['homefouls']/df_raw['hometotalTackle'])\n",
    "df_raw['awayDiscipline'] = 1/(df_raw['awayfouls']/df_raw['awaytotalTackle'])"
   ]
  },
  {
   "cell_type": "code",
   "execution_count": 1737,
   "metadata": {},
   "outputs": [],
   "source": [
    "\n",
    "# Replace infinite values in homeDiscipline with 0\n",
    "df_raw['homeDiscipline'].replace([np.inf, -np.inf], 0, inplace=True)\n",
    "# Replace infinite values in homeDiscipline with 0\n",
    "df_raw['awayDiscipline'].replace([np.inf, -np.inf], 0, inplace=True)\n",
    "\n"
   ]
  },
  {
   "cell_type": "code",
   "execution_count": null,
   "metadata": {},
   "outputs": [
    {
     "name": "stdout",
     "output_type": "stream",
     "text": [
      "   homeDiscipline  log_homeDiscipline  awayDiscipline  log_awayDiscipline\n",
      "0        1.250000            0.231112        0.294118           -1.190341\n",
      "1        1.333333            0.295154        0.533333           -0.610032\n",
      "2        0.700000           -0.342490        0.571429           -0.542267\n",
      "3        0.388889           -0.919072        0.714286           -0.322569\n",
      "4        0.875000           -0.122168        1.083333            0.089231\n"
     ]
    }
   ],
   "source": [
    "import numpy as np\n",
    "\n",
    "# Define a small constant to handle 0 or undefined values\n",
    "epsilon = 1e-2\n",
    "\n",
    "# Take the natural log of homeDiscipline and awayDiscipline\n",
    "df_raw['homeDiscipline'] = np.log(df_raw['homeDiscipline'] + epsilon)\n",
    "df_raw['awayDiscipline'] = np.log(df_raw['awayDiscipline'] + epsilon)\n",
    "\n"
   ]
  },
  {
   "cell_type": "code",
   "execution_count": null,
   "metadata": {},
   "outputs": [
    {
     "ename": "KeyError",
     "evalue": "'log'",
     "output_type": "error",
     "traceback": [
      "\u001b[1;31m---------------------------------------------------------------------------\u001b[0m",
      "\u001b[1;31mKeyError\u001b[0m                                  Traceback (most recent call last)",
      "File \u001b[1;32mc:\\Users\\ahmed\\AppData\\Local\\Programs\\Python\\Python311\\Lib\\site-packages\\pandas\\core\\indexes\\base.py:3802\u001b[0m, in \u001b[0;36mIndex.get_loc\u001b[1;34m(self, key, method, tolerance)\u001b[0m\n\u001b[0;32m   3801\u001b[0m \u001b[38;5;28;01mtry\u001b[39;00m:\n\u001b[1;32m-> 3802\u001b[0m     \u001b[38;5;28;01mreturn\u001b[39;00m \u001b[38;5;28;43mself\u001b[39;49m\u001b[38;5;241;43m.\u001b[39;49m\u001b[43m_engine\u001b[49m\u001b[38;5;241;43m.\u001b[39;49m\u001b[43mget_loc\u001b[49m\u001b[43m(\u001b[49m\u001b[43mcasted_key\u001b[49m\u001b[43m)\u001b[49m\n\u001b[0;32m   3803\u001b[0m \u001b[38;5;28;01mexcept\u001b[39;00m \u001b[38;5;167;01mKeyError\u001b[39;00m \u001b[38;5;28;01mas\u001b[39;00m err:\n",
      "File \u001b[1;32mc:\\Users\\ahmed\\AppData\\Local\\Programs\\Python\\Python311\\Lib\\site-packages\\pandas\\_libs\\index.pyx:138\u001b[0m, in \u001b[0;36mpandas._libs.index.IndexEngine.get_loc\u001b[1;34m()\u001b[0m\n",
      "File \u001b[1;32mc:\\Users\\ahmed\\AppData\\Local\\Programs\\Python\\Python311\\Lib\\site-packages\\pandas\\_libs\\index.pyx:165\u001b[0m, in \u001b[0;36mpandas._libs.index.IndexEngine.get_loc\u001b[1;34m()\u001b[0m\n",
      "File \u001b[1;32mpandas\\_libs\\hashtable_class_helper.pxi:5745\u001b[0m, in \u001b[0;36mpandas._libs.hashtable.PyObjectHashTable.get_item\u001b[1;34m()\u001b[0m\n",
      "File \u001b[1;32mpandas\\_libs\\hashtable_class_helper.pxi:5753\u001b[0m, in \u001b[0;36mpandas._libs.hashtable.PyObjectHashTable.get_item\u001b[1;34m()\u001b[0m\n",
      "\u001b[1;31mKeyError\u001b[0m: 'log'",
      "\nThe above exception was the direct cause of the following exception:\n",
      "\u001b[1;31mKeyError\u001b[0m                                  Traceback (most recent call last)",
      "Cell \u001b[1;32mIn[1742], line 1\u001b[0m\n\u001b[1;32m----> 1\u001b[0m \u001b[43mdf_raw\u001b[49m\u001b[43m[\u001b[49m\u001b[38;5;124;43m'\u001b[39;49m\u001b[38;5;124;43mlog\u001b[39;49m\u001b[38;5;124;43m'\u001b[39;49m\u001b[43m]\u001b[49m\n",
      "File \u001b[1;32mc:\\Users\\ahmed\\AppData\\Local\\Programs\\Python\\Python311\\Lib\\site-packages\\pandas\\core\\frame.py:3807\u001b[0m, in \u001b[0;36mDataFrame.__getitem__\u001b[1;34m(self, key)\u001b[0m\n\u001b[0;32m   3805\u001b[0m \u001b[38;5;28;01mif\u001b[39;00m \u001b[38;5;28mself\u001b[39m\u001b[38;5;241m.\u001b[39mcolumns\u001b[38;5;241m.\u001b[39mnlevels \u001b[38;5;241m>\u001b[39m \u001b[38;5;241m1\u001b[39m:\n\u001b[0;32m   3806\u001b[0m     \u001b[38;5;28;01mreturn\u001b[39;00m \u001b[38;5;28mself\u001b[39m\u001b[38;5;241m.\u001b[39m_getitem_multilevel(key)\n\u001b[1;32m-> 3807\u001b[0m indexer \u001b[38;5;241m=\u001b[39m \u001b[38;5;28;43mself\u001b[39;49m\u001b[38;5;241;43m.\u001b[39;49m\u001b[43mcolumns\u001b[49m\u001b[38;5;241;43m.\u001b[39;49m\u001b[43mget_loc\u001b[49m\u001b[43m(\u001b[49m\u001b[43mkey\u001b[49m\u001b[43m)\u001b[49m\n\u001b[0;32m   3808\u001b[0m \u001b[38;5;28;01mif\u001b[39;00m is_integer(indexer):\n\u001b[0;32m   3809\u001b[0m     indexer \u001b[38;5;241m=\u001b[39m [indexer]\n",
      "File \u001b[1;32mc:\\Users\\ahmed\\AppData\\Local\\Programs\\Python\\Python311\\Lib\\site-packages\\pandas\\core\\indexes\\base.py:3804\u001b[0m, in \u001b[0;36mIndex.get_loc\u001b[1;34m(self, key, method, tolerance)\u001b[0m\n\u001b[0;32m   3802\u001b[0m     \u001b[38;5;28;01mreturn\u001b[39;00m \u001b[38;5;28mself\u001b[39m\u001b[38;5;241m.\u001b[39m_engine\u001b[38;5;241m.\u001b[39mget_loc(casted_key)\n\u001b[0;32m   3803\u001b[0m \u001b[38;5;28;01mexcept\u001b[39;00m \u001b[38;5;167;01mKeyError\u001b[39;00m \u001b[38;5;28;01mas\u001b[39;00m err:\n\u001b[1;32m-> 3804\u001b[0m     \u001b[38;5;28;01mraise\u001b[39;00m \u001b[38;5;167;01mKeyError\u001b[39;00m(key) \u001b[38;5;28;01mfrom\u001b[39;00m \u001b[38;5;21;01merr\u001b[39;00m\n\u001b[0;32m   3805\u001b[0m \u001b[38;5;28;01mexcept\u001b[39;00m \u001b[38;5;167;01mTypeError\u001b[39;00m:\n\u001b[0;32m   3806\u001b[0m     \u001b[38;5;66;03m# If we have a listlike key, _check_indexing_error will raise\u001b[39;00m\n\u001b[0;32m   3807\u001b[0m     \u001b[38;5;66;03m#  InvalidIndexError. Otherwise we fall through and re-raise\u001b[39;00m\n\u001b[0;32m   3808\u001b[0m     \u001b[38;5;66;03m#  the TypeError.\u001b[39;00m\n\u001b[0;32m   3809\u001b[0m     \u001b[38;5;28mself\u001b[39m\u001b[38;5;241m.\u001b[39m_check_indexing_error(key)\n",
      "\u001b[1;31mKeyError\u001b[0m: 'log'"
     ]
    }
   ],
   "source": []
  },
  {
   "cell_type": "code",
   "execution_count": null,
   "metadata": {},
   "outputs": [],
   "source": []
  }
 ],
 "metadata": {
  "kernelspec": {
   "display_name": "Python 3",
   "language": "python",
   "name": "python3"
  },
  "language_info": {
   "codemirror_mode": {
    "name": "ipython",
    "version": 3
   },
   "file_extension": ".py",
   "mimetype": "text/x-python",
   "name": "python",
   "nbconvert_exporter": "python",
   "pygments_lexer": "ipython3",
   "version": "3.11.1"
  }
 },
 "nbformat": 4,
 "nbformat_minor": 2
}
